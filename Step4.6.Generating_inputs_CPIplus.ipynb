{
 "cells": [
  {
   "cell_type": "code",
   "execution_count": 1,
   "metadata": {},
   "outputs": [],
   "source": [
    "import os, time, pickle, sys, math\n",
    "import numpy as np\n",
    "import pandas as pd\n",
    "from collections import defaultdict\n",
    "import matplotlib.pyplot as plt\n",
    "from pymol import cmd\n",
    "from sklearn.metrics import pairwise_distances\n",
    "from sklearn.cluster import AgglomerativeClustering\n",
    "import pymesh\n",
    "\n",
    "from rdkit import Chem\n",
    "from rdkit.Chem import AllChem\n",
    "from rdkit import DataStructs\n",
    "from rdkit.ML.Cluster import Butina\n",
    "from scipy.cluster.hierarchy import fcluster, linkage, single\n",
    "from scipy.spatial.distance import pdist"
   ]
  },
  {
   "cell_type": "code",
   "execution_count": 2,
   "metadata": {},
   "outputs": [],
   "source": [
    "import pymol"
   ]
  },
  {
   "cell_type": "markdown",
   "metadata": {},
   "source": [
    "### 0. Define dataset parameters"
   ]
  },
  {
   "cell_type": "code",
   "execution_count": 11,
   "metadata": {},
   "outputs": [],
   "source": [
    "da = 4\n",
    "# scpdb_path = '/data/lishuya/software/scPDB/'\n",
    "\n",
    "outdir = './AffinityPredictionData_CPIplus_da{}/'.format(da)\n",
    "if not os.path.exists(outdir):\n",
    "    os.mkdir(outdir)"
   ]
  },
  {
   "cell_type": "markdown",
   "metadata": {},
   "source": [
    "### 1. Load dataset files"
   ]
  },
  {
   "cell_type": "code",
   "execution_count": 4,
   "metadata": {},
   "outputs": [
    {
     "data": {
      "text/plain": [
       "(2667, 5)"
      ]
     },
     "execution_count": 4,
     "metadata": {},
     "output_type": "execute_result"
    }
   ],
   "source": [
    "tablename = '/data/lishuya/lab/PocketAnchor/Revise1_new_data/Clean_protein_PDBbind_table.tsv'\n",
    "table = pd.read_csv(tablename, sep='\\t')\n",
    "table.shape"
   ]
  },
  {
   "cell_type": "code",
   "execution_count": 5,
   "metadata": {},
   "outputs": [
    {
     "data": {
      "text/html": [
       "<div>\n",
       "<style scoped>\n",
       "    .dataframe tbody tr th:only-of-type {\n",
       "        vertical-align: middle;\n",
       "    }\n",
       "\n",
       "    .dataframe tbody tr th {\n",
       "        vertical-align: top;\n",
       "    }\n",
       "\n",
       "    .dataframe thead th {\n",
       "        text-align: right;\n",
       "    }\n",
       "</style>\n",
       "<table border=\"1\" class=\"dataframe\">\n",
       "  <thead>\n",
       "    <tr style=\"text-align: right;\">\n",
       "      <th></th>\n",
       "      <th>pdbid</th>\n",
       "      <th>chains</th>\n",
       "      <th>original_sample</th>\n",
       "      <th>p_group</th>\n",
       "      <th>center_in_query</th>\n",
       "    </tr>\n",
       "  </thead>\n",
       "  <tbody>\n",
       "    <tr>\n",
       "      <td>0</td>\n",
       "      <td>1xqz</td>\n",
       "      <td>A</td>\n",
       "      <td>4rpv</td>\n",
       "      <td>2496</td>\n",
       "      <td>74.268_33.653_2.081</td>\n",
       "    </tr>\n",
       "    <tr>\n",
       "      <td>1</td>\n",
       "      <td>7n6t</td>\n",
       "      <td>AB</td>\n",
       "      <td>3vf5</td>\n",
       "      <td>2452</td>\n",
       "      <td>6.134_15.673_-0.473</td>\n",
       "    </tr>\n",
       "    <tr>\n",
       "      <td>2</td>\n",
       "      <td>3htc</td>\n",
       "      <td>HIL</td>\n",
       "      <td>1tbz</td>\n",
       "      <td>2236</td>\n",
       "      <td>0.000_0.000_0.000</td>\n",
       "    </tr>\n",
       "    <tr>\n",
       "      <td>3</td>\n",
       "      <td>1c5m</td>\n",
       "      <td>DF</td>\n",
       "      <td>2q1j</td>\n",
       "      <td>2247</td>\n",
       "      <td>7.073_60.629_71.693</td>\n",
       "    </tr>\n",
       "    <tr>\n",
       "      <td>4</td>\n",
       "      <td>2bls</td>\n",
       "      <td>A</td>\n",
       "      <td>1pi5</td>\n",
       "      <td>1182</td>\n",
       "      <td>22.621_6.574_14.218</td>\n",
       "    </tr>\n",
       "  </tbody>\n",
       "</table>\n",
       "</div>"
      ],
      "text/plain": [
       "  pdbid chains original_sample  p_group      center_in_query\n",
       "0  1xqz      A            4rpv     2496  74.268_33.653_2.081\n",
       "1  7n6t     AB            3vf5     2452  6.134_15.673_-0.473\n",
       "2  3htc    HIL            1tbz     2236    0.000_0.000_0.000\n",
       "3  1c5m     DF            2q1j     2247  7.073_60.629_71.693\n",
       "4  2bls      A            1pi5     1182  22.621_6.574_14.218"
      ]
     },
     "execution_count": 5,
     "metadata": {},
     "output_type": "execute_result"
    }
   ],
   "source": [
    "table.head()"
   ]
  },
  {
   "cell_type": "code",
   "execution_count": 7,
   "metadata": {},
   "outputs": [
    {
     "data": {
      "text/plain": [
       "(2667, 2667, 2667, 58)"
      ]
     },
     "execution_count": 7,
     "metadata": {},
     "output_type": "execute_result"
    }
   ],
   "source": [
    "list_pdbid_query = table['pdbid'].values\n",
    "list_pdbid_ref = table['original_sample'].values\n",
    "len(list_pdbid_ref), len(set(list_pdbid_ref)), len(list_pdbid_query), len(set(list_pdbid_query))"
   ]
  },
  {
   "cell_type": "markdown",
   "metadata": {},
   "source": [
    "### 2. Get protein features"
   ]
  },
  {
   "cell_type": "code",
   "execution_count": 22,
   "metadata": {},
   "outputs": [
    {
     "name": "stdout",
     "output_type": "stream",
     "text": [
      "2606\n"
     ]
    }
   ],
   "source": [
    "# batch_process\n",
    "\n",
    "anchor_dict = {}\n",
    "for i in table.index:\n",
    "    query_pdbid, chains, ref_pdbid, center = \\\n",
    "    table.loc[i, ['pdbid', 'chains', 'original_sample', 'center_in_query']]\n",
    "    try:\n",
    "        repeat_list = np.load('AnchorOutput/{}_{}_center_{}_da_{}/anchors.npy'\\\n",
    "                              .format(query_pdbid, chains, center, da))\n",
    "    except: \n",
    "        continue\n",
    "    anchor_dict[ref_pdbid] = repeat_list[0]\n",
    "\n",
    "print(len(anchor_dict))"
   ]
  },
  {
   "cell_type": "code",
   "execution_count": 14,
   "metadata": {},
   "outputs": [],
   "source": [
    "with open(outdir+'casf2016_anchor_dict_thre'+str(da), 'wb') as f:\n",
    "    pickle.dump(anchor_dict, f)"
   ]
  },
  {
   "cell_type": "code",
   "execution_count": 16,
   "metadata": {},
   "outputs": [
    {
     "data": {
      "text/plain": [
       "2606"
      ]
     },
     "execution_count": 16,
     "metadata": {},
     "output_type": "execute_result"
    }
   ],
   "source": [
    "feature_dict = {}\n",
    "for i in table.index:\n",
    "    query_pdbid, chains, ref_pdbid, center = \\\n",
    "    table.loc[i, ['pdbid', 'chains', 'original_sample', 'center_in_query']]\n",
    "    try:\n",
    "        \n",
    "        atom_dict = pickle.load(open('AnchorOutput/{}_{}_center_{}_da_{}/atom_feature.pk'\\\n",
    "                                     .format(query_pdbid, chains, center, da), 'rb'))\n",
    "    except: \n",
    "        continue\n",
    "#     print(pdbid, atom_dict[0][0].shape)\n",
    "    feature_dict[ref_pdbid] = atom_dict[0]\n",
    "len(feature_dict)"
   ]
  },
  {
   "cell_type": "code",
   "execution_count": 17,
   "metadata": {},
   "outputs": [],
   "source": [
    "# SAVE AS A WHOLE\n",
    "with open(outdir+\"casf2016_atom_feature_coord_nei_dict_thre\"+str(da), \"wb\") as f:\n",
    "    pickle.dump(feature_dict, f)"
   ]
  },
  {
   "cell_type": "code",
   "execution_count": 25,
   "metadata": {
    "scrolled": false
   },
   "outputs": [
    {
     "name": "stdout",
     "output_type": "stream",
     "text": [
      "no maisf 1c2p\n",
      "no maisf 2rfj\n"
     ]
    },
    {
     "data": {
      "text/plain": [
       "2606"
      ]
     },
     "execution_count": 25,
     "metadata": {},
     "output_type": "execute_result"
    }
   ],
   "source": [
    "masif_feature_coord_nei_dict = {}\n",
    "\n",
    "for i in table.index:\n",
    "    query_pdbid, chains, ref_pdbid, center = \\\n",
    "    table.loc[i, ['pdbid', 'chains', 'original_sample', 'center_in_query']]\n",
    "    if ref_pdbid not in anchor_dict:\n",
    "        continue\n",
    "    try:\n",
    "        masif_data = pickle.load(open('AnchorOutput/{}_{}_center_{}_da_{}/masif_feature_coord_nei_dict.pk'\\\n",
    "                                      .format(query_pdbid, chains, center, da), 'rb'))[0]\n",
    "    except:\n",
    "        print('no maisf', query_pdbid)\n",
    "        masif_data = (np.array([]).reshape((0, 5)), \n",
    "                       np.array([]).reshape((0, 3)),\n",
    "                       np.array([]))\n",
    "    masif_feature_coord_nei_dict[ref_pdbid] = masif_data\n",
    "\n",
    "len(masif_feature_coord_nei_dict)"
   ]
  },
  {
   "cell_type": "code",
   "execution_count": 26,
   "metadata": {},
   "outputs": [],
   "source": [
    "with open(outdir+'casf2016_masif_feature_coord_nei_dict', 'wb') as f:\n",
    "    pickle.dump(masif_feature_coord_nei_dict, f)"
   ]
  },
  {
   "cell_type": "code",
   "execution_count": 27,
   "metadata": {},
   "outputs": [
    {
     "name": "stdout",
     "output_type": "stream",
     "text": [
      "no maisf 1c2p\n",
      "no maisf 2rfj\n"
     ]
    },
    {
     "data": {
      "text/plain": [
       "2606"
      ]
     },
     "execution_count": 27,
     "metadata": {},
     "output_type": "execute_result"
    }
   ],
   "source": [
    "am_dict = {}\n",
    "for i in table.index:\n",
    "    query_pdbid, chains, ref_pdbid, center = \\\n",
    "    table.loc[i, ['pdbid', 'chains', 'original_sample', 'center_in_query']]\n",
    "    if ref_pdbid not in anchor_dict:\n",
    "        continue\n",
    "    try:\n",
    "        am = np.load('AnchorOutput/{}_{}_center_{}_da_{}/am_list.npy'\\\n",
    "                     .format(query_pdbid, chains, center, da))[0]\n",
    "    except:\n",
    "        print('no maisf', query_pdbid)\n",
    "        am = np.array([]).reshape((len(anchor_dict[ref_pdbid]), 0))\n",
    "    am_dict[ref_pdbid] = am\n",
    "    \n",
    "len(am_dict)    "
   ]
  },
  {
   "cell_type": "code",
   "execution_count": 29,
   "metadata": {},
   "outputs": [],
   "source": [
    "with open(outdir+'casf2016_am_dict', 'wb') as f:\n",
    "    pickle.dump(am_dict, f)"
   ]
  },
  {
   "cell_type": "code",
   "execution_count": 30,
   "metadata": {},
   "outputs": [
    {
     "name": "stdout",
     "output_type": "stream",
     "text": [
      "2606 2606\n"
     ]
    }
   ],
   "source": [
    "# protein part\n",
    "\n",
    "aa_dict = {}\n",
    "at_dict = {}\n",
    "\n",
    "for i in table.index:\n",
    "    query_pdbid, chains, ref_pdbid, center = \\\n",
    "    table.loc[i, ['pdbid', 'chains', 'original_sample', 'center_in_query']]\n",
    "    if ref_pdbid not in anchor_dict:\n",
    "        continue\n",
    "    at = np.load('AnchorOutput/{}_{}_center_{}_da_{}/at_list.npy'\\\n",
    "                 .format(query_pdbid, chains, center, da))[0]  \n",
    "    aa = np.load('AnchorOutput/{}_{}_center_{}_da_{}/aa_list.npy'\\\n",
    "                 .format(query_pdbid, chains, center, da))[0]\n",
    "    \n",
    "    aa_dict[ref_pdbid] = aa\n",
    "    at_dict[ref_pdbid] = at\n",
    "print(len(aa_dict), len(at_dict))"
   ]
  },
  {
   "cell_type": "code",
   "execution_count": 31,
   "metadata": {},
   "outputs": [],
   "source": [
    "with open(outdir+'casf2016_aa_dict', 'wb') as f:\n",
    "    pickle.dump(aa_dict, f)\n",
    "with open(outdir+'casf2016_at_dict', 'wb') as f:\n",
    "    pickle.dump(at_dict, f)"
   ]
  },
  {
   "cell_type": "markdown",
   "metadata": {},
   "source": [
    "### 2. copy other files"
   ]
  },
  {
   "cell_type": "code",
   "execution_count": 35,
   "metadata": {},
   "outputs": [
    {
     "name": "stdout",
     "output_type": "stream",
     "text": [
      "cp /data/lishuya/silexon/doghouse2021/data11/anchor_casf_update0624/casf2016_atom_dict     ./AffinityPredictionData_CPIplus_da4/\n",
      "\n",
      "cp /data/lishuya/silexon/doghouse2021/data11/anchor_casf_update0624/casf2016_bond_dict     ./AffinityPredictionData_CPIplus_da4/\n",
      "\n",
      "cp /data/lishuya/silexon/doghouse2021/data11/anchor_casf_update0624/casf2016_cf_dict     ./AffinityPredictionData_CPIplus_da4/\n",
      "\n",
      "cp /data/lishuya/silexon/doghouse2021/data11/anchor_casf_update0624/casf2016_frag_dict     ./AffinityPredictionData_CPIplus_da4/\n",
      "\n",
      "cp /data/lishuya/silexon/doghouse2021/data11/anchor_casf_update0624/casf2016_gg_dict     ./AffinityPredictionData_CPIplus_da4/\n",
      "\n",
      "cp /data/lishuya/silexon/doghouse2021/data11/anchor_casf_update0624/casf2016_table_new_protein.tsv     ./AffinityPredictionData_CPIplus_da4/\n",
      "\n"
     ]
    }
   ],
   "source": [
    "for file in ['casf2016_atom_dict', 'casf2016_bond_dict', 'casf2016_cf_dict', \n",
    "            'casf2016_frag_dict', 'casf2016_gg_dict', 'casf2016_table_new_protein.tsv']:\n",
    "    print('cp /data/lishuya/silexon/doghouse2021/data11/anchor_casf_update0624/{} \\\n",
    "    {}\\n'.format(file, outdir))"
   ]
  },
  {
   "cell_type": "code",
   "execution_count": null,
   "metadata": {},
   "outputs": [],
   "source": []
  }
 ],
 "metadata": {
  "kernelspec": {
   "display_name": "Python 3",
   "language": "python",
   "name": "python3"
  },
  "language_info": {
   "codemirror_mode": {
    "name": "ipython",
    "version": 3
   },
   "file_extension": ".py",
   "mimetype": "text/x-python",
   "name": "python",
   "nbconvert_exporter": "python",
   "pygments_lexer": "ipython3",
   "version": "3.7.4"
  }
 },
 "nbformat": 4,
 "nbformat_minor": 2
}
