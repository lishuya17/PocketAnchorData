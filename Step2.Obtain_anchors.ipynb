{
 "cells": [
  {
   "cell_type": "code",
   "execution_count": 3,
   "metadata": {},
   "outputs": [],
   "source": [
    "import os\n",
    "import numpy as np\n",
    "import pandas as pd"
   ]
  },
  {
   "cell_type": "markdown",
   "metadata": {},
   "source": [
    "### 1. pocket detection -  scpdb"
   ]
  },
  {
   "cell_type": "code",
   "execution_count": 73,
   "metadata": {},
   "outputs": [
    {
     "name": "stdout",
     "output_type": "stream",
     "text": [
      "9442\n"
     ]
    }
   ],
   "source": [
    "with open('lists/pdbid_chain_list_scPDB.txt') as f:\n",
    "    list_task_scpdb = [line.strip() for line in f.readlines()]\n",
    "print(len(list_task_scpdb))"
   ]
  },
  {
   "cell_type": "code",
   "execution_count": 129,
   "metadata": {},
   "outputs": [],
   "source": [
    "da = 6\n",
    "fw = open('global_scpdb_{}.sh'.format(da), 'w')\n",
    "for item in list_task_scpdb:\n",
    "    fw.write('sh ./src/process_one_sample_global.sh {} {}\\n'.format(item, da))\n",
    "fw.close()"
   ]
  },
  {
   "cell_type": "markdown",
   "metadata": {},
   "source": [
    "Then, run \"nohup sh global_scpdb_6.sh &\" in cmdline"
   ]
  },
  {
   "cell_type": "code",
   "execution_count": 1,
   "metadata": {},
   "outputs": [],
   "source": [
    "# check progress\n",
    "da=6\n",
    "count_done = 0\n",
    "for item in list_task_scpdb:\n",
    "    if os.path.exists('./AnchorOutput/{}_da_{}/am_list.pt'.format(item, da)):\n",
    "        count_done += 1\n",
    "print(count_done)"
   ]
  },
  {
   "cell_type": "markdown",
   "metadata": {},
   "source": [
    "### 2. pocket detection - coach420"
   ]
  },
  {
   "cell_type": "code",
   "execution_count": 70,
   "metadata": {},
   "outputs": [
    {
     "name": "stdout",
     "output_type": "stream",
     "text": [
      "436\n"
     ]
    }
   ],
   "source": [
    "with open('lists/pdbid_chain_list_COACH420.txt') as f:\n",
    "    list_task_coach = [line.strip() for line in f.readlines()]\n",
    "print(len(list_task_coach))"
   ]
  },
  {
   "cell_type": "code",
   "execution_count": 105,
   "metadata": {},
   "outputs": [],
   "source": [
    "da = 6\n",
    "fw = open('global_coach_{}.sh'.format(da), 'w')\n",
    "for item in list_task_coach:\n",
    "    fw.write('sh ./src/process_one_sample_global.sh {} {}\\n'.format(item, da))\n",
    "fw.close()"
   ]
  },
  {
   "cell_type": "markdown",
   "metadata": {},
   "source": [
    "Then, run \"nohup sh global_coach_6.sh &\" in cmdline"
   ]
  },
  {
   "cell_type": "code",
   "execution_count": 215,
   "metadata": {},
   "outputs": [
    {
     "name": "stdout",
     "output_type": "stream",
     "text": [
      "436\n"
     ]
    }
   ],
   "source": [
    "# check progress\n",
    "da=6\n",
    "count_done = 0\n",
    "for item in list_task_coach:\n",
    "    if os.path.exists('./AnchorOutput/{}_da_{}/am_list.pt'.format(item, da)):\n",
    "        count_done += 1\n",
    "print(count_done)"
   ]
  },
  {
   "cell_type": "markdown",
   "metadata": {},
   "source": [
    "### 3. pocket detection - holo4k"
   ]
  },
  {
   "cell_type": "code",
   "execution_count": 64,
   "metadata": {},
   "outputs": [
    {
     "name": "stdout",
     "output_type": "stream",
     "text": [
      "4131\n"
     ]
    }
   ],
   "source": [
    "with open('lists/pdbid_chain_list_HOLO4k.txt') as f:\n",
    "    list_task_holo = [line.strip() for line in f.readlines()]\n",
    "print(len(list_task_holo))"
   ]
  },
  {
   "cell_type": "code",
   "execution_count": 128,
   "metadata": {},
   "outputs": [],
   "source": [
    "da = 6\n",
    "fw = open('global_holo_{}.sh'.format(da), 'w')\n",
    "for item in list_task_holo:\n",
    "    fw.write('sh ./src/process_one_sample_global.sh {} {}\\n'.format(item, da))\n",
    "fw.close()"
   ]
  },
  {
   "cell_type": "markdown",
   "metadata": {},
   "source": [
    "Then, run \"nohup sh global_holo_6.sh &\" in cmdline"
   ]
  },
  {
   "cell_type": "code",
   "execution_count": 247,
   "metadata": {},
   "outputs": [
    {
     "name": "stdout",
     "output_type": "stream",
     "text": [
      "4126\n"
     ]
    }
   ],
   "source": [
    "# check progress\n",
    "da=6\n",
    "count_done = 0\n",
    "for item in list_task_holo:\n",
    "    if os.path.exists('./AnchorOutput/{}_da_{}/am_list.pt'.format(item, da)):\n",
    "        count_done += 1\n",
    "print(count_done)"
   ]
  },
  {
   "cell_type": "markdown",
   "metadata": {},
   "source": [
    "### 4. affinity prediction - pdbbind"
   ]
  },
  {
   "cell_type": "code",
   "execution_count": 56,
   "metadata": {},
   "outputs": [
    {
     "name": "stdout",
     "output_type": "stream",
     "text": [
      "19443\n"
     ]
    }
   ],
   "source": [
    "with open('lists/pdbid_chain_center_list_PDBbind.txt') as f:\n",
    "    list_task_pdbbind = [line.strip() for line in f.readlines()]\n",
    "print(len(list_task_pdbbind))"
   ]
  },
  {
   "cell_type": "code",
   "execution_count": 130,
   "metadata": {},
   "outputs": [],
   "source": [
    "da = 4\n",
    "fw = open('local_pdbbind_{}.sh'.format(da), 'w')\n",
    "for item in list_task_pdbbind:\n",
    "    pdbid, center = item.split()\n",
    "    fw.write('sh ./src/process_one_sample_local.sh {} {} {}\\n'.format(pdbid, center, da))\n",
    "fw.close()"
   ]
  },
  {
   "cell_type": "markdown",
   "metadata": {},
   "source": [
    "Then, run \"nohup sh lcoal_pdbbind_4.sh &\" in cmdline"
   ]
  },
  {
   "cell_type": "code",
   "execution_count": 2,
   "metadata": {},
   "outputs": [],
   "source": [
    "# check progress\n",
    "da = 4\n",
    "count_done = 0\n",
    "for item in list_task_pdbbind:\n",
    "    pdbid, center = item.split()\n",
    "    if os.path.exists('./AnchorOutput/{}_center_{}_da_{}/am_list.npy'.format(pdbid, center, da)):\n",
    "        count_done += 1\n",
    "    elif os.path.exists('./AnchorOutput/{}_center_{}_da_2/am_list.npy'.format(pdbid, center)):\n",
    "        print('sh ./src/process_one_sample_local.sh {} {} {}'.format(pdbid, center, da))\n",
    "print(count_done)"
   ]
  },
  {
   "cell_type": "code",
   "execution_count": null,
   "metadata": {},
   "outputs": [],
   "source": []
  }
 ],
 "metadata": {
  "kernelspec": {
   "display_name": "Python 3",
   "language": "python",
   "name": "python3"
  },
  "language_info": {
   "codemirror_mode": {
    "name": "ipython",
    "version": 3
   },
   "file_extension": ".py",
   "mimetype": "text/x-python",
   "name": "python",
   "nbconvert_exporter": "python",
   "pygments_lexer": "ipython3",
   "version": "3.7.4"
  }
 },
 "nbformat": 4,
 "nbformat_minor": 2
}
