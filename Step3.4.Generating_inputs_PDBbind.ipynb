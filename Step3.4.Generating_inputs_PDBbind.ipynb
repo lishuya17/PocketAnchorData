{
 "cells": [
  {
   "cell_type": "code",
   "execution_count": 1,
   "metadata": {},
   "outputs": [],
   "source": [
    "import os, time, pickle, sys, math\n",
    "import numpy as np\n",
    "import pandas as pd\n",
    "from collections import defaultdict\n",
    "import matplotlib.pyplot as plt\n",
    "from pymol import cmd\n",
    "from sklearn.metrics import pairwise_distances\n",
    "from sklearn.cluster import AgglomerativeClustering\n",
    "import pymesh\n",
    "\n",
    "from rdkit import Chem\n",
    "from rdkit.Chem import AllChem\n",
    "from rdkit import DataStructs\n",
    "from rdkit.ML.Cluster import Butina\n",
    "from scipy.cluster.hierarchy import fcluster, linkage, single\n",
    "from scipy.spatial.distance import pdist"
   ]
  },
  {
   "cell_type": "code",
   "execution_count": 2,
   "metadata": {},
   "outputs": [],
   "source": [
    "import pymol"
   ]
  },
  {
   "cell_type": "markdown",
   "metadata": {},
   "source": [
    "### 0. Define dataset parameters"
   ]
  },
  {
   "cell_type": "code",
   "execution_count": 19,
   "metadata": {},
   "outputs": [],
   "source": [
    "da = 6\n",
    "# scpdb_path = '/data/lishuya/software/scPDB/'\n",
    "\n",
    "outdir = './AffinityPredictionData_PDBbind_da{}/'.format(da)\n",
    "if not os.path.exists(outdir):\n",
    "    os.mkdir(outdir)"
   ]
  },
  {
   "cell_type": "markdown",
   "metadata": {},
   "source": [
    "### 1. Load dataset files"
   ]
  },
  {
   "cell_type": "code",
   "execution_count": 4,
   "metadata": {},
   "outputs": [
    {
     "data": {
      "text/plain": [
       "(19019, 5)"
      ]
     },
     "execution_count": 4,
     "metadata": {},
     "output_type": "execute_result"
    }
   ],
   "source": [
    "table = pd.read_csv('lists/casf2016_table_new_protein.tsv', sep='\\t')\n",
    "table.shape"
   ]
  },
  {
   "cell_type": "code",
   "execution_count": 5,
   "metadata": {},
   "outputs": [
    {
     "data": {
      "text/plain": [
       "19443"
      ]
     },
     "execution_count": 5,
     "metadata": {},
     "output_type": "execute_result"
    }
   ],
   "source": [
    "with open('lists/pdbid_chain_center_list_PDBbind.txt') as f:\n",
    "    list_task = [item.strip() for item in f.readlines()]\n",
    "len(list_task)"
   ]
  },
  {
   "cell_type": "code",
   "execution_count": 6,
   "metadata": {},
   "outputs": [
    {
     "data": {
      "text/plain": [
       "19019"
      ]
     },
     "execution_count": 6,
     "metadata": {},
     "output_type": "execute_result"
    }
   ],
   "source": [
    "list_pdbid = table['pdbid'].values\n",
    "set_pdbid = set(list_pdbid)\n",
    "len(list_pdbid)"
   ]
  },
  {
   "cell_type": "markdown",
   "metadata": {},
   "source": [
    "### 2. Get protein features"
   ]
  },
  {
   "cell_type": "code",
   "execution_count": 7,
   "metadata": {},
   "outputs": [
    {
     "name": "stdout",
     "output_type": "stream",
     "text": [
      "19019\n"
     ]
    }
   ],
   "source": [
    "# batch_process\n",
    "\n",
    "anchor_dict = {}\n",
    "for item in list_task: \n",
    "    pdbid_chains, center = item.split()\n",
    "    pdbid, chains = pdbid_chains.split('_')\n",
    "    if pdbid not in set_pdbid:\n",
    "        continue\n",
    "    repeat_list = np.load('AnchorOutput/{}_center_{}_da_{}/anchors.npy'.format(pdbid_chains, center, da))\n",
    "    anchor_dict[pdbid] = repeat_list[0]\n",
    "\n",
    "print(len(anchor_dict))"
   ]
  },
  {
   "cell_type": "code",
   "execution_count": 8,
   "metadata": {},
   "outputs": [],
   "source": [
    "with open(outdir+'casf2016_anchor_dict_thre'+str(da), 'wb') as f:\n",
    "    pickle.dump(anchor_dict, f)"
   ]
  },
  {
   "cell_type": "code",
   "execution_count": 9,
   "metadata": {},
   "outputs": [
    {
     "data": {
      "text/plain": [
       "19019"
      ]
     },
     "execution_count": 9,
     "metadata": {},
     "output_type": "execute_result"
    }
   ],
   "source": [
    "feature_dict = {}\n",
    "\n",
    "for item in list_task:\n",
    "    pdbid_chains, center = item.split()\n",
    "    pdbid, chains = pdbid_chains.split('_')\n",
    "    if pdbid not in set_pdbid:\n",
    "        continue\n",
    "        \n",
    "    atom_dict = pickle.load(open('AnchorOutput/{}_center_{}_da_{}/atom_feature.pk'.format(pdbid_chains, center, da), 'rb'))\n",
    "#     print(pdbid, atom_dict[0][0].shape)\n",
    "    feature_dict[pdbid] = atom_dict[0]\n",
    "len(feature_dict)"
   ]
  },
  {
   "cell_type": "code",
   "execution_count": 10,
   "metadata": {},
   "outputs": [],
   "source": [
    "# SAVE AS A WHOLE\n",
    "with open(outdir+\"casf2016_atom_feature_coord_nei_dict_thre\"+str(da), \"wb\") as f:\n",
    "    pickle.dump(feature_dict, f)"
   ]
  },
  {
   "cell_type": "code",
   "execution_count": 11,
   "metadata": {},
   "outputs": [
    {
     "name": "stdout",
     "output_type": "stream",
     "text": [
      "no maisf 4h85\n",
      "no maisf 3fq7\n",
      "no maisf 4w53\n",
      "no maisf 5kbi\n",
      "no maisf 1lgw\n",
      "no maisf 185l\n",
      "no maisf 1l6s\n",
      "no maisf 3twp\n",
      "no maisf 4h81\n",
      "no maisf 6cc9\n",
      "no maisf 4ghi\n",
      "no maisf 6csf\n",
      "no maisf 1e02\n",
      "no maisf 5kbg\n",
      "no maisf 1dzj\n",
      "no maisf 1dzk\n",
      "no maisf 3tz4\n",
      "no maisf 1e06\n",
      "no maisf 6cse\n",
      "no maisf 4gs9\n",
      "no maisf 5kbe\n"
     ]
    },
    {
     "data": {
      "text/plain": [
       "19019"
      ]
     },
     "execution_count": 11,
     "metadata": {},
     "output_type": "execute_result"
    }
   ],
   "source": [
    "masif_feature_coord_nei_dict = {}\n",
    "\n",
    "for item in list_task:\n",
    "    pdbid_chains, center = item.split()\n",
    "    pdbid, chains = pdbid_chains.split('_')\n",
    "    if pdbid not in set_pdbid:\n",
    "        continue\n",
    "    try:\n",
    "        masif_data = pickle.load(open('AnchorOutput/{}_center_{}_da_{}/masif_feature_coord_nei_dict.pk'.format(pdbid_chains, center, da), 'rb'))[0]\n",
    "    except:\n",
    "        print('no maisf', pdbid)\n",
    "        masif_data = (np.array([]).reshape((0, 5)), \n",
    "                       np.array([]).reshape((0, 3)),\n",
    "                       np.array([]))\n",
    "    masif_feature_coord_nei_dict[pdbid] = masif_data\n",
    "\n",
    "len(masif_feature_coord_nei_dict)"
   ]
  },
  {
   "cell_type": "code",
   "execution_count": 12,
   "metadata": {},
   "outputs": [],
   "source": [
    "with open(outdir+'casf2016_masif_feature_coord_nei_dict', 'wb') as f:\n",
    "    pickle.dump(masif_feature_coord_nei_dict, f)"
   ]
  },
  {
   "cell_type": "code",
   "execution_count": 13,
   "metadata": {},
   "outputs": [
    {
     "name": "stdout",
     "output_type": "stream",
     "text": [
      "no maisf 4h85\n",
      "no maisf 3fq7\n",
      "no maisf 4w53\n",
      "no maisf 5kbi\n",
      "no maisf 1lgw\n",
      "no maisf 185l\n",
      "no maisf 1l6s\n",
      "no maisf 3twp\n",
      "no maisf 4h81\n",
      "no maisf 6cc9\n",
      "no maisf 4ghi\n",
      "no maisf 6csf\n",
      "no maisf 1e02\n",
      "no maisf 5kbg\n",
      "no maisf 1dzj\n",
      "no maisf 1dzk\n",
      "no maisf 3tz4\n",
      "no maisf 1e06\n",
      "no maisf 6cse\n",
      "no maisf 4gs9\n",
      "no maisf 5kbe\n"
     ]
    },
    {
     "data": {
      "text/plain": [
       "19019"
      ]
     },
     "execution_count": 13,
     "metadata": {},
     "output_type": "execute_result"
    }
   ],
   "source": [
    "am_dict = {}\n",
    "for item in list_task:\n",
    "    pdbid_chains, center = item.split()\n",
    "    pdbid, chains = pdbid_chains.split('_')\n",
    "    if pdbid not in set_pdbid:\n",
    "        continue\n",
    "    try:\n",
    "        am = np.load('AnchorOutput/{}_center_{}_da_{}/am_list.npy'.format(pdbid_chains, center, da))[0]\n",
    "    except:\n",
    "        print('no maisf', pdbid)\n",
    "        am = np.array([]).reshape((len(anchor_dict[pdbid]), 0))\n",
    "    am_dict[pdbid] = am\n",
    "    \n",
    "len(am_dict)    "
   ]
  },
  {
   "cell_type": "code",
   "execution_count": 14,
   "metadata": {},
   "outputs": [],
   "source": [
    "with open(outdir+'casf2016_am_dict', 'wb') as f:\n",
    "    pickle.dump(am_dict, f)"
   ]
  },
  {
   "cell_type": "code",
   "execution_count": 15,
   "metadata": {},
   "outputs": [
    {
     "name": "stdout",
     "output_type": "stream",
     "text": [
      "19019 19019\n"
     ]
    }
   ],
   "source": [
    "# protein part\n",
    "\n",
    "aa_dict = {}\n",
    "at_dict = {}\n",
    "\n",
    "for item in list_task:\n",
    "    pdbid_chains, center = item.split()\n",
    "    pdbid, chains = pdbid_chains.split('_')\n",
    "    if pdbid not in set_pdbid:\n",
    "        continue\n",
    "    at = np.load('AnchorOutput/{}_center_{}_da_{}/at_list.npy'.format(pdbid_chains, center, da))[0]  \n",
    "    aa = np.load('AnchorOutput/{}_center_{}_da_{}/aa_list.npy'.format(pdbid_chains, center, da))[0]\n",
    "    \n",
    "    aa_dict[pdbid] = aa\n",
    "    at_dict[pdbid] = at\n",
    "print(len(aa_dict), len(at_dict))"
   ]
  },
  {
   "cell_type": "code",
   "execution_count": 16,
   "metadata": {},
   "outputs": [],
   "source": [
    "with open(outdir+'casf2016_aa_dict', 'wb') as f:\n",
    "    pickle.dump(aa_dict, f)\n",
    "with open(outdir+'casf2016_at_dict', 'wb') as f:\n",
    "    pickle.dump(at_dict, f)"
   ]
  },
  {
   "cell_type": "markdown",
   "metadata": {},
   "source": [
    "### 2. copy other files, for ligand features and table (will be provided at https://github.com/tiantz17/PocketAnchor)"
   ]
  },
  {
   "cell_type": "code",
   "execution_count": 20,
   "metadata": {},
   "outputs": [
    {
     "name": "stdout",
     "output_type": "stream",
     "text": [
      "scp -P 12878 lishuya@192.168.1.233:/data/lishuya/silexon/doghouse2021/data11/anchor_casf_update0624/casf2016_atom_dict     ./AffinityPredictionData_PDBbind_da6/\n",
      "\n",
      "scp -P 12878 lishuya@192.168.1.233:/data/lishuya/silexon/doghouse2021/data11/anchor_casf_update0624/casf2016_bond_dict     ./AffinityPredictionData_PDBbind_da6/\n",
      "\n",
      "scp -P 12878 lishuya@192.168.1.233:/data/lishuya/silexon/doghouse2021/data11/anchor_casf_update0624/casf2016_cf_dict     ./AffinityPredictionData_PDBbind_da6/\n",
      "\n",
      "scp -P 12878 lishuya@192.168.1.233:/data/lishuya/silexon/doghouse2021/data11/anchor_casf_update0624/casf2016_frag_dict     ./AffinityPredictionData_PDBbind_da6/\n",
      "\n",
      "scp -P 12878 lishuya@192.168.1.233:/data/lishuya/silexon/doghouse2021/data11/anchor_casf_update0624/casf2016_gg_dict     ./AffinityPredictionData_PDBbind_da6/\n",
      "\n",
      "scp -P 12878 lishuya@192.168.1.233:/data/lishuya/silexon/doghouse2021/data11/anchor_casf_update0624/casf2016_table_new_protein.tsv     ./AffinityPredictionData_PDBbind_da6/\n",
      "\n"
     ]
    }
   ],
   "source": [
    "for file in ['casf2016_atom_dict', 'casf2016_bond_dict', 'casf2016_cf_dict', \n",
    "            'casf2016_frag_dict', 'casf2016_gg_dict', 'casf2016_table_new_protein.tsv']:\n",
    "    print('scp -P 12878 lishuya@192.168.1.233:/data/lishuya/silexon/doghouse2021/data11/anchor_casf_update0624/{} \\\n",
    "    {}\\n'.format(file, outdir))"
   ]
  },
  {
   "cell_type": "code",
   "execution_count": null,
   "metadata": {},
   "outputs": [],
   "source": []
  }
 ],
 "metadata": {
  "kernelspec": {
   "display_name": "Python 3",
   "language": "python",
   "name": "python3"
  },
  "language_info": {
   "codemirror_mode": {
    "name": "ipython",
    "version": 3
   },
   "file_extension": ".py",
   "mimetype": "text/x-python",
   "name": "python",
   "nbconvert_exporter": "python",
   "pygments_lexer": "ipython3",
   "version": "3.7.4"
  }
 },
 "nbformat": 4,
 "nbformat_minor": 2
}
