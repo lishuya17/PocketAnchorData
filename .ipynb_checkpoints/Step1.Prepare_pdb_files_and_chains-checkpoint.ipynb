{
 "cells": [
  {
   "cell_type": "markdown",
   "metadata": {},
   "source": [
    "# Please choose to run either of the following two sections according to whether you have predefined chains for your dataset"
   ]
  },
  {
   "cell_type": "markdown",
   "metadata": {},
   "source": [
    "# 1 For reproducing results in PocketAnchor Paper or processing cutomized datasets with predefined PDB IDs and chains"
   ]
  },
  {
   "cell_type": "markdown",
   "metadata": {},
   "source": [
    "## 1.1 Prepare or load the list file"
   ]
  },
  {
   "cell_type": "markdown",
   "metadata": {},
   "source": [
    "### 1.1.1 For running our demo data, or reproducing the results in PocketAnchor paper, please just use the lists in ./lists/"
   ]
  },
  {
   "cell_type": "code",
   "execution_count": 2,
   "metadata": {},
   "outputs": [
    {
     "name": "stdout",
     "output_type": "stream",
     "text": [
      "['121p_A', '12as_AB', '13pk_ABCD', '16pk_A', '17gs_AB', '182l_A', '183l_A', '185l_A', '186l_A', '187l_A', '18gs_AB', '19gs_AB', '1a05_AB', '1a0f_AB', '1a0g_AB']\n"
     ]
    }
   ],
   "source": [
    "# demo data\n",
    "with open('lists/demo_list.txt') as f:\n",
    "    list_task = [line.strip() for line in f.readlines()]\n",
    "print(list_task)"
   ]
  },
  {
   "cell_type": "markdown",
   "metadata": {},
   "source": [
    "For reproducing results on COACH420, please use lists/pdbid_chain_list_COACH420.txt\n",
    "\n",
    "For reproducing results on HOLO4k, please use lists/pdbid_chain_list_HOLO4k.txt\n",
    "\n",
    "For reproducing results on PDBbind, please use lists/xxx.txt\n"
   ]
  },
  {
   "cell_type": "markdown",
   "metadata": {},
   "source": [
    "### 1.1.2 For customized datasets:"
   ]
  },
  {
   "cell_type": "code",
   "execution_count": 3,
   "metadata": {},
   "outputs": [],
   "source": [
    "# example\n",
    "customized_list = ['121p_A', '12as_AB', '13pk_ABCD', '16pk_A', '17gs_AB', '182l_A', '183l_A', '185l_A', '186l_A', '187l_A', '18gs_AB', '19gs_AB', '1a05_AB', '1a0f_AB', '1a0g_AB']\n",
    "name = 'customized_list'\n",
    "with open('lists/{}.txt'.format(name), 'w') as f:\n",
    "    for item in customized_list:\n",
    "        f.write(item+'\\n')"
   ]
  },
  {
   "cell_type": "code",
   "execution_count": 4,
   "metadata": {},
   "outputs": [
    {
     "name": "stdout",
     "output_type": "stream",
     "text": [
      "['121p_A', '12as_AB', '13pk_ABCD', '16pk_A', '17gs_AB', '182l_A', '183l_A', '185l_A', '186l_A', '187l_A', '18gs_AB', '19gs_AB', '1a05_AB', '1a0f_AB', '1a0g_AB']\n"
     ]
    }
   ],
   "source": [
    "# write the list file\n",
    "with open('lists/{}.txt'.format(name)) as f:\n",
    "    list_task = [line.strip() for line in f.readlines()]\n",
    "print(list_task)"
   ]
  },
  {
   "cell_type": "markdown",
   "metadata": {},
   "source": [
    "## 1.2 Download pdb files"
   ]
  },
  {
   "cell_type": "code",
   "execution_count": 5,
   "metadata": {},
   "outputs": [],
   "source": [
    "from multiprocessing import Pool\n",
    "import os\n",
    "\n",
    "def download_one(pdbid):\n",
    "    if not os.path.exists('MasifOutput/00-raw_pdbs/{}.pdb'.format(pdbid)):\n",
    "        os.system('wget -P MasifOutput/00-raw_pdbs/ https://files.rcsb.org/download/{}.pdb'.format(pdbid))\n",
    "\n",
    "###############################################\n",
    "### please define this number according to \n",
    "### your computational resources\n",
    "num_processes = 4 \n",
    "###############################################\n",
    "\n",
    "pdbid_list = [item[:4] for item in list_task]\n",
    "\n",
    "with Pool(num_processes) as p:\n",
    "    res = p.map(download_one, pdbid_list)"
   ]
  },
  {
   "cell_type": "markdown",
   "metadata": {},
   "source": [
    "# 2 For processing datasets without predefined chains (need ligand files; e.g., PDBbind)"
   ]
  },
  {
   "cell_type": "code",
   "execution_count": null,
   "metadata": {},
   "outputs": [],
   "source": [
    "# exmaple:\n",
    "pdbid_list = ['4bny']"
   ]
  },
  {
   "cell_type": "markdown",
   "metadata": {},
   "source": [
    "## 2.1 Download pdb files"
   ]
  },
  {
   "cell_type": "code",
   "execution_count": null,
   "metadata": {},
   "outputs": [],
   "source": [
    "from multiprocessing import Pool\n",
    "import os\n",
    "\n",
    "def download_one(pdbid):\n",
    "    if not os.path.exists('MasifOutput/00-raw_pdbs/{}.pdb'.format(pdbid)):\n",
    "        os.system('wget -P MasifOutput/00-raw_pdbs/ https://files.rcsb.org/download/{}.pdb'.format(pdbid))\n",
    "\n",
    "###############################################\n",
    "### please define this number according to \n",
    "### your computational resources\n",
    "num_processes = 4 \n",
    "###############################################\n",
    "\n",
    "pdbid_list = [item[:4] for item in list_task]\n",
    "\n",
    "with Pool(num_processes) as p:\n",
    "    res = p.map(download_one, pdbid_list)"
   ]
  },
  {
   "cell_type": "markdown",
   "metadata": {},
   "source": [
    "## 2.2 Select proper chains"
   ]
  },
  {
   "cell_type": "code",
   "execution_count": null,
   "metadata": {},
   "outputs": [],
   "source": [
    "from pymol import cmd\n",
    "import numpy as np\n",
    "import pandas as pd\n",
    "import os, time, sys, pickle\n",
    "from collections import defaultdict\n",
    "from sklearn.metrics import pairwise_distances\n",
    "\n",
    "prefix = \"/data/tiantingzhong/Drug/data11_process/\"\n",
    "pdb_datapath = prefix + \"PDB/raw/\"\n",
    "pdbbind_datapath = prefix + \"PDBbind2020/pdbbind/\"\n",
    "pdbchains_path = prefix + \"PDB/cpi_chain/\"\n",
    "\n"
   ]
  },
  {
   "cell_type": "code",
   "execution_count": 6,
   "metadata": {},
   "outputs": [],
   "source": [
    "def get_biomolecule(pdb_filename):\n",
    "    dict_temp = {}\n",
    "    with open(os.path.join(pdb_filename), 'r') as f:\n",
    "        line = f.readline()\n",
    "        while line:\n",
    "            temp = line.strip().split()\n",
    "            if temp[0] == \"REMARK\":\n",
    "                if len(temp)>1 and temp[1] == \"350\":\n",
    "                    if \"BIOMOLECULE\" in line:\n",
    "                        biomol = temp[3]\n",
    "                    elif \"APPLY THE FOLLOWING TO CHAIN\" in line:\n",
    "                        added = line.strip().replace(\" \", \"\").split(':')[1].split(',')\n",
    "                        added = [item for item in added if item != \"\"]\n",
    "                        if biomol not in dict_temp:\n",
    "                            dict_temp[biomol] = []\n",
    "                        dict_temp[biomol].extend(added)\n",
    "                    elif \"AND CHAIN\" in line:\n",
    "                        added = line.strip().replace(\" \", \"\").split(':')[1].split(',')\n",
    "                        added = [item for item in added if item != \"\"]\n",
    "                        if biomol not in dict_temp:\n",
    "                            dict_temp[biomol] = []\n",
    "                        dict_temp[biomol].extend(added)\n",
    "            if temp[0] == \"ATOM\":\n",
    "                break\n",
    "            line = f.readline()\n",
    "    return dict_temp\n",
    "\n",
    "\n",
    "def select_biomolecule(pdb_filename, chain_dict, ligand_filename=None):\n",
    "    distance_dict = {}\n",
    "    cmd.reinitialize()\n",
    "    cmd.load(pdb_datapath + pdbid + '.pdb')\n",
    "    cmd.load(pdbbind_datapath + pdbid + '/' + pdbid + '_ligand.sdf')\n",
    "    ligand_coords = []\n",
    "    cmd.iterate_state(-1, '{}_ligand'.format(pdbid), 'ligand_coords.append([x,y,z])', space=locals())\n",
    "        \n",
    "    for biomol, chain_list in chain_dict.items():\n",
    "        cmd.select('biomol_{}'.format(biomol), 'chain {}'.format('+'.join(chain_list)))\n",
    "        coords = []\n",
    "        cmd.iterate_state(-1, 'biomol_{}'.format(biomol), 'coords.append([x,y,z])', space=locals())\n",
    "#         print('chain {}'.format('+'.join(chain_list)), len(coords), len(ligand_coords))\n",
    "        if len(coords) > 0:\n",
    "            dist = pairwise_distances(ligand_coords, coords)\n",
    "            distance_dict[biomol] = dist.min()\n",
    "        else:\n",
    "            distance_dict[biomol] = np.nan\n",
    "    return distance_dict\n",
    "\n",
    "def get_all_chains(pdbid):\n",
    "    cmd.reinitialize()\n",
    "    cmd.load(pdb_datapath+'{}.pdb'.format(pdbid))\n",
    "    cmd.remove('het')\n",
    "    chains = set()\n",
    "    for x in cmd.get_names():\n",
    "        # print('x', x)\n",
    "        for ch in cmd.get_chains(x):\n",
    "            chains.add(ch)\n",
    "            #print(x, \" has chain \", ch)\n",
    "    return chains\n",
    "\n",
    "def get_remove_chains(pdbid):\n",
    "    cmd.reinitialize()\n",
    "    cmd.load(pdb_datapath+'{}.pdb'.format(pdbid))\n",
    "    cmd.remove('het')\n",
    "    cmd.load(pdbbind_datapath+'{}/{}_ligand.sdf'.format(pdbid, pdbid))\n",
    "    cmd.select('near_ligand', '{}_ligand expand 0.1'.format(pdbid))\n",
    "    chains = set()\n",
    "    cmd.iterate('near_ligand', 'chains.add(chain)', space=locals())\n",
    "    if '' in chains:\n",
    "        chains = chains - {''}\n",
    "    return chains\n",
    "\n",
    "\n",
    "def get_chains_one_sample(pdbid, isprint=False, isread=True):\n",
    "    \n",
    "    if isread:\n",
    "        if os.path.exists(pdbchains_path + pdbid):\n",
    "            with open(pdbchains_path + pdbid, 'r') as f:\n",
    "                chains = f.readline().strip()\n",
    "            return chains\n",
    "    \n",
    "    biomol_dict = get_biomolecule(pdbid)\n",
    "    if isprint:\n",
    "        print('biomol_dict', biomol_dict)\n",
    "    try:\n",
    "        result_dict = select_biomolecule(pdbid, biomol_dict)\n",
    "    except Exception as E:\n",
    "        print(pdbid, E)\n",
    "        return \"\"\n",
    "    if isprint:\n",
    "        print('result_dict', result_dict)\n",
    "    if len(biomol_dict) == 0:\n",
    "        select_chains = get_all_chains(pdbid)\n",
    "    else:\n",
    "        select_key, selected_value = '', 99999\n",
    "        for key, value in result_dict.items():\n",
    "            if value != np.nan and value < selected_value:\n",
    "                selected_value = value\n",
    "                select_key = key\n",
    "        if isprint:\n",
    "            print('select_key', select_key)\n",
    "        assert select_key != '', pdbid\n",
    "        select_chains = biomol_dict[select_key]\n",
    "    if isprint:\n",
    "        print('select_chains', select_chains)\n",
    "    remove_chains = get_remove_chains(pdbid)\n",
    "    if isprint:\n",
    "        print('remove_chains', remove_chains)\n",
    "    final_chains  = list(set(select_chains) - remove_chains)\n",
    "    if isprint:\n",
    "        print('final_chains', final_chains)\n",
    "        \n",
    "    chains = \"\".join(sorted(final_chains))\n",
    "    with open(pdbchains_path + pdbid, 'w') as f:\n",
    "        f.write(chains)\n",
    "        \n",
    "    return chains"
   ]
  },
  {
   "cell_type": "code",
   "execution_count": null,
   "metadata": {},
   "outputs": [],
   "source": []
  }
 ],
 "metadata": {
  "kernelspec": {
   "display_name": "Python 3",
   "language": "python",
   "name": "python3"
  },
  "language_info": {
   "codemirror_mode": {
    "name": "ipython",
    "version": 3
   },
   "file_extension": ".py",
   "mimetype": "text/x-python",
   "name": "python",
   "nbconvert_exporter": "python",
   "pygments_lexer": "ipython3",
   "version": "3.7.4"
  }
 },
 "nbformat": 4,
 "nbformat_minor": 2
}
