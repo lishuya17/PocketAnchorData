{
 "cells": [
  {
   "cell_type": "code",
   "execution_count": 109,
   "metadata": {},
   "outputs": [],
   "source": [
    "import os\n",
    "import numpy as np"
   ]
  },
  {
   "cell_type": "markdown",
   "metadata": {},
   "source": [
    "### 1. pocket detection -  scpdb"
   ]
  },
  {
   "cell_type": "code",
   "execution_count": 73,
   "metadata": {},
   "outputs": [
    {
     "name": "stdout",
     "output_type": "stream",
     "text": [
      "9442\n"
     ]
    }
   ],
   "source": [
    "with open('lists/pdbid_chain_list_scPDB.txt') as f:\n",
    "    list_task_scpdb = [line.strip() for line in f.readlines()]\n",
    "print(len(list_task_scpdb))"
   ]
  },
  {
   "cell_type": "code",
   "execution_count": 129,
   "metadata": {},
   "outputs": [],
   "source": [
    "da = 6\n",
    "fw = open('global_scpdb_{}.sh'.format(da), 'w')\n",
    "for item in list_task_scpdb:\n",
    "    fw.write('sh ./src/process_one_sample_global.sh {} {}\\n'.format(item, da))\n",
    "fw.close()"
   ]
  },
  {
   "cell_type": "markdown",
   "metadata": {},
   "source": [
    "Then, run \"nohup sh global_scpdb_6.sh &\" in cmdline"
   ]
  },
  {
   "cell_type": "code",
   "execution_count": 213,
   "metadata": {},
   "outputs": [
    {
     "name": "stdout",
     "output_type": "stream",
     "text": [
      "sh ./src/process_one_sample_global.sh 1h8h_ABCDEFG 4\n",
      "sh ./src/process_one_sample_global.sh 1zm4_EF 4\n",
      "sh ./src/process_one_sample_global.sh 3jxe_AB 4\n",
      "sh ./src/process_one_sample_global.sh 4itr_ABCD 4\n",
      "9239\n"
     ]
    }
   ],
   "source": [
    "# check progress\n",
    "da=4\n",
    "count_done = 0\n",
    "for item in list_task_scpdb:\n",
    "    if os.path.exists('./AnchorOutput/{}_da_{}/am_list.pt'.format(item, da)):\n",
    "        count_done += 1\n",
    "    elif os.path.exists('./MasifOutput/01-benchmark_pdbs/{}.pdb'.format(item)):\n",
    "        print('sh ./src/process_one_sample_global.sh {} {}'.format(item, da))\n",
    "print(count_done)"
   ]
  },
  {
   "cell_type": "code",
   "execution_count": 206,
   "metadata": {},
   "outputs": [
    {
     "name": "stdout",
     "output_type": "stream",
     "text": [
      "7512\n"
     ]
    }
   ],
   "source": [
    "# check progress\n",
    "da=6\n",
    "count_done = 0\n",
    "for item in list_task_scpdb:\n",
    "    if os.path.exists('./AnchorOutput/{}_da_{}/am_list.pt'.format(item, da)):\n",
    "        count_done += 1\n",
    "print(count_done)"
   ]
  },
  {
   "cell_type": "code",
   "execution_count": 214,
   "metadata": {},
   "outputs": [
    {
     "name": "stdout",
     "output_type": "stream",
     "text": [
      "sh ./src/process_one_sample_global.sh 1h8h_ABCDEFG 8\n",
      "sh ./src/process_one_sample_global.sh 1zm4_EF 8\n",
      "sh ./src/process_one_sample_global.sh 3jxe_AB 8\n",
      "sh ./src/process_one_sample_global.sh 4itr_ABCD 8\n",
      "9239\n"
     ]
    }
   ],
   "source": [
    "# check progress\n",
    "da=8\n",
    "count_done = 0\n",
    "for item in list_task_scpdb:\n",
    "    if os.path.exists('./AnchorOutput/{}_da_{}/am_list.pt'.format(item, da)):\n",
    "        count_done += 1\n",
    "    elif os.path.exists('./MasifOutput/01-benchmark_pdbs/{}.pdb'.format(item)):\n",
    "#         print('rm {}.pdb\\nwget -P ./ https://files.rcsb.org/download/{}.pdb'.format(item[:4], item[:4]))\n",
    "        print('sh ./src/process_one_sample_global.sh {} {}'.format(item, da))\n",
    "print(count_done)"
   ]
  },
  {
   "cell_type": "markdown",
   "metadata": {},
   "source": [
    "### 2. pocket detection - coach420"
   ]
  },
  {
   "cell_type": "code",
   "execution_count": 70,
   "metadata": {},
   "outputs": [
    {
     "name": "stdout",
     "output_type": "stream",
     "text": [
      "436\n"
     ]
    }
   ],
   "source": [
    "with open('lists/pdbid_chain_list_COACH420.txt') as f:\n",
    "    list_task_coach = [line.strip() for line in f.readlines()]\n",
    "print(len(list_task_coach))"
   ]
  },
  {
   "cell_type": "code",
   "execution_count": 105,
   "metadata": {},
   "outputs": [],
   "source": [
    "da = 6\n",
    "fw = open('global_coach_{}.sh'.format(da), 'w')\n",
    "for item in list_task_coach:\n",
    "    fw.write('sh ./src/process_one_sample_global.sh {} {}\\n'.format(item, da))\n",
    "fw.close()"
   ]
  },
  {
   "cell_type": "markdown",
   "metadata": {},
   "source": [
    "Then, run \"nohup sh global_coach_6.sh &\" in cmdline"
   ]
  },
  {
   "cell_type": "code",
   "execution_count": 215,
   "metadata": {},
   "outputs": [
    {
     "name": "stdout",
     "output_type": "stream",
     "text": [
      "436\n"
     ]
    }
   ],
   "source": [
    "# check progress\n",
    "da=6\n",
    "count_done = 0\n",
    "for item in list_task_coach:\n",
    "    if os.path.exists('./AnchorOutput/{}_da_{}/am_list.pt'.format(item, da)):\n",
    "        count_done += 1\n",
    "print(count_done)"
   ]
  },
  {
   "cell_type": "markdown",
   "metadata": {},
   "source": [
    "### 3. pocket detection - holo4k"
   ]
  },
  {
   "cell_type": "code",
   "execution_count": 64,
   "metadata": {},
   "outputs": [
    {
     "name": "stdout",
     "output_type": "stream",
     "text": [
      "4131\n"
     ]
    }
   ],
   "source": [
    "with open('lists/pdbid_chain_list_HOLO4k.txt') as f:\n",
    "    list_task_holo = [line.strip() for line in f.readlines()]\n",
    "print(len(list_task_holo))"
   ]
  },
  {
   "cell_type": "code",
   "execution_count": 128,
   "metadata": {},
   "outputs": [],
   "source": [
    "da = 6\n",
    "fw = open('global_holo_{}.sh'.format(da), 'w')\n",
    "for item in list_task_holo:\n",
    "    fw.write('sh ./src/process_one_sample_global.sh {} {}\\n'.format(item, da))\n",
    "fw.close()"
   ]
  },
  {
   "cell_type": "markdown",
   "metadata": {},
   "source": [
    "Then, run \"nohup sh global_holo_6.sh &\" in cmdline"
   ]
  },
  {
   "cell_type": "code",
   "execution_count": 247,
   "metadata": {},
   "outputs": [
    {
     "name": "stdout",
     "output_type": "stream",
     "text": [
      "4126\n"
     ]
    }
   ],
   "source": [
    "# check progress\n",
    "da=6\n",
    "count_done = 0\n",
    "for item in list_task_holo:\n",
    "    if os.path.exists('./AnchorOutput/{}_da_{}/am_list.pt'.format(item, da)):\n",
    "        count_done += 1\n",
    "print(count_done)"
   ]
  },
  {
   "cell_type": "markdown",
   "metadata": {},
   "source": [
    "### 4. affinity prediction - pdbbind"
   ]
  },
  {
   "cell_type": "code",
   "execution_count": 56,
   "metadata": {},
   "outputs": [
    {
     "name": "stdout",
     "output_type": "stream",
     "text": [
      "19443\n"
     ]
    }
   ],
   "source": [
    "with open('lists/pdbid_chain_center_list_PDBbind.txt') as f:\n",
    "    list_task_pdbbind = [line.strip() for line in f.readlines()]\n",
    "print(len(list_task_pdbbind))"
   ]
  },
  {
   "cell_type": "code",
   "execution_count": 130,
   "metadata": {},
   "outputs": [],
   "source": [
    "da = 4\n",
    "fw = open('local_pdbbind_{}.sh'.format(da), 'w')\n",
    "for item in list_task_pdbbind:\n",
    "    pdbid, center = item.split()\n",
    "    fw.write('sh ./src/process_one_sample_local.sh {} {} {}\\n'.format(pdbid, center, da))\n",
    "fw.close()"
   ]
  },
  {
   "cell_type": "markdown",
   "metadata": {},
   "source": [
    "Then, run \"nohup sh lcoal_pdbbind_6.sh &\" in cmdline"
   ]
  },
  {
   "cell_type": "code",
   "execution_count": 248,
   "metadata": {},
   "outputs": [
    {
     "name": "stdout",
     "output_type": "stream",
     "text": [
      "sh ./src/process_one_sample_local.sh 2mip_ABG 14.303_43.290_-5.273 2\n",
      "sh ./src/process_one_sample_local.sh 6c28_BC 127.044_0.766_174.746 2\n",
      "sh ./src/process_one_sample_local.sh 5tyi_AB 20.545_8.817_-22.107 2\n",
      "sh ./src/process_one_sample_local.sh 2x2c_FKLMOPQRS 31.220_-0.555_-50.368 2\n",
      "sh ./src/process_one_sample_local.sh 4nus_A -14.547_7.503_-25.418 2\n",
      "sh ./src/process_one_sample_local.sh 6g1u_AB 3.494_-5.790_20.804 2\n",
      "sh ./src/process_one_sample_local.sh 5zhl_A 2.479_-19.054_-14.606 2\n",
      "sh ./src/process_one_sample_local.sh 5fsb_AB -25.420_-1.194_54.541 2\n",
      "sh ./src/process_one_sample_local.sh 6htc_ABCDEFGHIJKLMNOPQRSTUVWXYZab 60.996_-135.556_38.826 2\n",
      "sh ./src/process_one_sample_local.sh 4qwf_ABCDEFGHIJKLMNOPQRSTUVWXYZab 60.757_-134.951_36.942 2\n",
      "sh ./src/process_one_sample_local.sh 4qz7_ABCDEFGHIJKLMNOPQRSTUVWXYZab 60.473_-135.357_39.421 2\n",
      "sh ./src/process_one_sample_local.sh 2r1w_ABC 31.331_-1.995_2.923 2\n",
      "sh ./src/process_one_sample_local.sh 4u91_E 31.745_41.146_215.691 2\n",
      "sh ./src/process_one_sample_local.sh 4po7_ABCP -26.552_2.382_27.180 2\n",
      "sh ./src/process_one_sample_local.sh 4qwg_ABCDEFGHIJKLMNOPQRSTUVWXYZab 61.063_-136.233_37.170 2\n",
      "sh ./src/process_one_sample_local.sh 4xcb_ABCD 21.687_259.380_215.229 2\n",
      "sh ./src/process_one_sample_local.sh 3twp_AC 70.342_81.281_26.352 2\n",
      "sh ./src/process_one_sample_local.sh 2g0g_AB 10.649_-7.849_36.573 2\n",
      "sh ./src/process_one_sample_local.sh 1xt3_ABC 20.432_37.872_44.815 2\n",
      "sh ./src/process_one_sample_local.sh 3hqr_AS 19.337_-6.228_-4.326 2\n",
      "sh ./src/process_one_sample_local.sh 4qvl_ABCDEFGHIJKLMNOPQRSTUVWXYZab 61.521_-135.388_39.469 2\n",
      "sh ./src/process_one_sample_local.sh 4j8g_A -17.011_18.413_-87.029 2\n",
      "sh ./src/process_one_sample_local.sh 4qwi_ABCDEFGHIJKLMNOPQRSTUVWXYZab 60.594_-135.263_36.929 2\n",
      "sh ./src/process_one_sample_local.sh 4qwl_ABCDEFGHIJKLMNOPQRSTUVWXYZab 60.173_-135.261_36.651 2\n",
      "sh ./src/process_one_sample_local.sh 4fzc_ABCDEFGHIJKLMNOPQRSTUVWXYZabdef 57.653_-134.995_36.604 2\n",
      "sh ./src/process_one_sample_local.sh 2b2v_ABC -29.647_-5.294_-4.357 2\n",
      "sh ./src/process_one_sample_local.sh 2kfh_A 12.931_10.602_-0.952 2\n",
      "sh ./src/process_one_sample_local.sh 4lp6_A -4.154_-5.519_68.881 2\n",
      "sh ./src/process_one_sample_local.sh 2w0s_AB 1.873_2.512_-48.875 2\n",
      "sh ./src/process_one_sample_local.sh 4nw6_A -18.314_1.276_-23.269 2\n",
      "sh ./src/process_one_sample_local.sh 1mwn_BY 64.746_-8.935_16.952 2\n",
      "sh ./src/process_one_sample_local.sh 3aho_A 14.893_-1.963_2.229 2\n",
      "sh ./src/process_one_sample_local.sh 4nw5_A -18.010_1.475_-23.089 2\n",
      "sh ./src/process_one_sample_local.sh 5fsc_AB -27.673_-15.128_26.209 2\n",
      "sh ./src/process_one_sample_local.sh 4qz3_ABCDEFGHIJKLMNOPQRSTUVWXYZab 60.447_-135.113_39.074 2\n",
      "sh ./src/process_one_sample_local.sh 2rvn_A -9.699_-19.173_-4.986 2\n",
      "sh ./src/process_one_sample_local.sh 3tpx_AB 28.199_-44.075_-3.716 2\n",
      "sh ./src/process_one_sample_local.sh 4k6u_ABC 2.107_14.279_9.934 2\n",
      "sh ./src/process_one_sample_local.sh 1c8v_AB 49.561_27.212_13.526 2\n",
      "sh ./src/process_one_sample_local.sh 2w9r_A 12.890_11.160_16.567 2\n",
      "sh ./src/process_one_sample_local.sh 5ab1_AC 3.443_77.395_170.939 2\n",
      "sh ./src/process_one_sample_local.sh 6e83_B 3.357_-0.073_9.230 2\n",
      "sh ./src/process_one_sample_local.sh 4nw2_A 32.315_-13.628_-11.803 2\n",
      "sh ./src/process_one_sample_local.sh 5ahj_ABCDEFGHIJKLMNOPQRSTUVWXYZab 59.093_-135.236_38.205 2\n",
      "sh ./src/process_one_sample_local.sh 5ect_A -14.547_9.373_1.764 2\n",
      "sh ./src/process_one_sample_local.sh 6ccx_ABC 12.737_6.741_16.070 2\n",
      "sh ./src/process_one_sample_local.sh 6jof_A 2.554_16.473_-13.229 2\n",
      "sh ./src/process_one_sample_local.sh 2hzl_AB 61.917_75.863_27.260 2\n",
      "sh ./src/process_one_sample_local.sh 4qwk_ABCDEFGHIJKLMNOPQRSTUVWXYZab 60.891_-135.419_37.037 2\n",
      "sh ./src/process_one_sample_local.sh 5zhj_A 5.146_-19.169_-10.879 2\n",
      "sh ./src/process_one_sample_local.sh 4qw3_ABCDEFGHIJKLMNOPQRSTUVWXYZab 62.217_-135.301_39.820 2\n",
      "sh ./src/process_one_sample_local.sh 3ahn_A 14.576_-2.034_1.074 2\n",
      "sh ./src/process_one_sample_local.sh 5hk2_ABC -9.038_21.732_-25.586 2\n",
      "sh ./src/process_one_sample_local.sh 3g5k_ABCD 35.840_9.664_10.351 2\n",
      "sh ./src/process_one_sample_local.sh 5nka_A 94.228_16.519_6.094 2\n",
      "sh ./src/process_one_sample_local.sh 1p0y_C 68.224_130.983_60.990 2\n",
      "sh ./src/process_one_sample_local.sh 6q8a_A -4.405_-1.948_-28.860 2\n",
      "sh ./src/process_one_sample_local.sh 6hvr_ABCDEFGHIJKLMNOPQRSTUVWXYZab 61.243_-133.991_38.462 2\n",
      "sh ./src/process_one_sample_local.sh 3mg4_12ABCDEFGHIJKLMNOPQRSTUVWXYZ 10.720_-137.040_18.553 2\n",
      "sh ./src/process_one_sample_local.sh 5auz_A -22.751_2.456_-10.744 2\n",
      "sh ./src/process_one_sample_local.sh 3qs8_AB 6.753_-11.072_31.765 2\n",
      "sh ./src/process_one_sample_local.sh 2x6x_AB -17.596_0.801_31.657 2\n",
      "sh ./src/process_one_sample_local.sh 5ief_ABC 107.244_531.686_70.830 2\n",
      "sh ./src/process_one_sample_local.sh 5t2p_ABCDEF 11.150_23.468_-3.784 2\n",
      "19338 0\n"
     ]
    }
   ],
   "source": [
    "# check progress\n",
    "da=2\n",
    "count_done = 0\n",
    "count_redo = 0\n",
    "for item in list_task_pdbbind:\n",
    "    pdbid, center = item.split()\n",
    "    if os.path.exists('./AnchorOutput/{}_center_{}_da_{}/am_list.npy'.format(pdbid, center, da)):\n",
    "        count_done += 1\n",
    "    elif os.path.exists('./MasifOutput/01-benchmark_pdbs/{}.pdb'.format(pdbid)):\n",
    "#         print('rm {}.pdb\\nwget -P ./ https://files.rcsb.org/download/{}.pdb'.format(item[:4], item[:4]))\n",
    "        print('sh ./src/process_one_sample_local.sh {} {} {}'.format(pdbid, center, da))\n",
    "        count_redo += 1\n",
    "#     else:\n",
    "#         pass\n",
    "print(count_done, count_redo)"
   ]
  },
  {
   "cell_type": "code",
   "execution_count": 249,
   "metadata": {},
   "outputs": [
    {
     "name": "stdout",
     "output_type": "stream",
     "text": [
      "sh ./src/process_one_sample_local.sh 5vkf_ABCD 49.464_31.794_13.610 4\n",
      "sh ./src/process_one_sample_local.sh 2x2c_FKLMOPQRS 31.220_-0.555_-50.368 4\n",
      "sh ./src/process_one_sample_local.sh 4po7_ABCP -26.552_2.382_27.180 4\n",
      "sh ./src/process_one_sample_local.sh 4qzw_ABCDEFGHIJKLMNOPQRSTUVWXYZab 60.563_-135.280_38.862 4\n",
      "sh ./src/process_one_sample_local.sh 1xt3_ABC 20.432_37.872_44.815 4\n",
      "sh ./src/process_one_sample_local.sh 2kfh_A 12.931_10.602_-0.952 4\n",
      "sh ./src/process_one_sample_local.sh 4lp6_A -4.154_-5.519_68.881 4\n",
      "sh ./src/process_one_sample_local.sh 3tpx_AB 28.199_-44.075_-3.716 4\n",
      "sh ./src/process_one_sample_local.sh 4k6u_ABC 2.107_14.279_9.934 4\n",
      "sh ./src/process_one_sample_local.sh 5ab1_AC 3.443_77.395_170.939 4\n",
      "sh ./src/process_one_sample_local.sh 2hwg_AB 20.830_-8.155_19.134 4\n",
      "sh ./src/process_one_sample_local.sh 4nw2_A 32.315_-13.628_-11.803 4\n",
      "sh ./src/process_one_sample_local.sh 4fxj_ABCD 26.876_-16.419_32.912 4\n",
      "19335\n"
     ]
    }
   ],
   "source": [
    "# check progress\n",
    "da = 4\n",
    "count_done = 0\n",
    "for item in list_task_pdbbind:\n",
    "    pdbid, center = item.split()\n",
    "    if os.path.exists('./AnchorOutput/{}_center_{}_da_{}/am_list.npy'.format(pdbid, center, da)):\n",
    "        count_done += 1\n",
    "    elif os.path.exists('./AnchorOutput/{}_center_{}_da_2/am_list.npy'.format(pdbid, center)):\n",
    "        print('sh ./src/process_one_sample_local.sh {} {} {}'.format(pdbid, center, da))\n",
    "print(count_done)"
   ]
  },
  {
   "cell_type": "code",
   "execution_count": 250,
   "metadata": {},
   "outputs": [
    {
     "name": "stdout",
     "output_type": "stream",
     "text": [
      "sh ./src/process_one_sample_local.sh 5vkf_ABCD 49.464_31.794_13.610 6\n",
      "sh ./src/process_one_sample_local.sh 2mip_ABG 14.303_43.290_-5.273 6\n",
      "sh ./src/process_one_sample_local.sh 3fq7_AB 6.492_19.808_-32.940 6\n",
      "sh ./src/process_one_sample_local.sh 2x2c_FKLMOPQRS 31.220_-0.555_-50.368 6\n",
      "sh ./src/process_one_sample_local.sh 5kbh_AB 30.092_2.808_-13.729 6\n",
      "sh ./src/process_one_sample_local.sh 4po7_ABCP -26.552_2.382_27.180 6\n",
      "sh ./src/process_one_sample_local.sh 4qzw_ABCDEFGHIJKLMNOPQRSTUVWXYZab 60.563_-135.280_38.862 6\n",
      "sh ./src/process_one_sample_local.sh 1xt3_ABC 20.432_37.872_44.815 6\n",
      "sh ./src/process_one_sample_local.sh 2kfh_A 12.931_10.602_-0.952 6\n",
      "sh ./src/process_one_sample_local.sh 4lp6_A -4.154_-5.519_68.881 6\n",
      "sh ./src/process_one_sample_local.sh 5kbg_AB 29.935_2.595_-12.969 6\n",
      "sh ./src/process_one_sample_local.sh 3tpx_AB 28.199_-44.075_-3.716 6\n",
      "sh ./src/process_one_sample_local.sh 4k6u_ABC 2.107_14.279_9.934 6\n",
      "sh ./src/process_one_sample_local.sh 5ab1_AC 3.443_77.395_170.939 6\n",
      "sh ./src/process_one_sample_local.sh 2hwg_AB 20.830_-8.155_19.134 6\n",
      "sh ./src/process_one_sample_local.sh 4nw2_A 32.315_-13.628_-11.803 6\n",
      "sh ./src/process_one_sample_local.sh 4fxj_ABCD 26.876_-16.419_32.912 6\n",
      "19331\n"
     ]
    }
   ],
   "source": [
    "# check progress\n",
    "da = 6\n",
    "count_done = 0\n",
    "for item in list_task_pdbbind:\n",
    "    pdbid, center = item.split()\n",
    "    if os.path.exists('./AnchorOutput/{}_center_{}_da_{}/am_list.npy'.format(pdbid, center, da)):\n",
    "        count_done += 1\n",
    "    elif os.path.exists('./AnchorOutput/{}_center_{}_da_2/am_list.npy'.format(pdbid, center)):\n",
    "        print('sh ./src/process_one_sample_local.sh {} {} {}'.format(pdbid, center, da))\n",
    "print(count_done)"
   ]
  },
  {
   "cell_type": "code",
   "execution_count": 251,
   "metadata": {},
   "outputs": [
    {
     "name": "stdout",
     "output_type": "stream",
     "text": [
      "sh ./src/process_one_sample_local.sh 5vkf_ABCD 49.464_31.794_13.610 8\n",
      "sh ./src/process_one_sample_local.sh 2mip_ABG 14.303_43.290_-5.273 8\n",
      "sh ./src/process_one_sample_local.sh 4h85_A -9.092_-31.646_15.944 8\n",
      "sh ./src/process_one_sample_local.sh 3fq7_AB 6.492_19.808_-32.940 8\n",
      "sh ./src/process_one_sample_local.sh 4w53_A -33.570_6.307_3.819 8\n",
      "sh ./src/process_one_sample_local.sh 5kbi_AB 29.781_2.702_-13.730 8\n",
      "sh ./src/process_one_sample_local.sh 2x2c_FKLMOPQRS 31.220_-0.555_-50.368 8\n",
      "sh ./src/process_one_sample_local.sh 1lgw_A 27.135_6.345_4.177 8\n",
      "sh ./src/process_one_sample_local.sh 185l_A 27.151_6.173_4.260 8\n",
      "sh ./src/process_one_sample_local.sh 4po7_ABCP -26.552_2.382_27.180 8\n",
      "sh ./src/process_one_sample_local.sh 4qzw_ABCDEFGHIJKLMNOPQRSTUVWXYZab 60.563_-135.280_38.862 8\n",
      "sh ./src/process_one_sample_local.sh 1l6s_AB 20.623_88.954_52.128 8\n",
      "sh ./src/process_one_sample_local.sh 4h81_A -9.120_-32.022_16.349 8\n",
      "sh ./src/process_one_sample_local.sh 1xt3_ABC 20.432_37.872_44.815 8\n",
      "sh ./src/process_one_sample_local.sh 6cc9_ABC 29.382_-4.282_-11.348 8\n",
      "sh ./src/process_one_sample_local.sh 4ghi_AB 13.097_-41.753_10.193 8\n",
      "sh ./src/process_one_sample_local.sh 2kfh_A 12.931_10.602_-0.952 8\n",
      "sh ./src/process_one_sample_local.sh 4lp6_A -4.154_-5.519_68.881 8\n",
      "sh ./src/process_one_sample_local.sh 6csf_HLM 251.135_-14.234_-32.185 8\n",
      "sh ./src/process_one_sample_local.sh 1e02_A 0.503_27.411_12.958 8\n",
      "sh ./src/process_one_sample_local.sh 5kbg_AB 29.935_2.595_-12.969 8\n",
      "sh ./src/process_one_sample_local.sh 3tpx_AB 28.199_-44.075_-3.716 8\n",
      "sh ./src/process_one_sample_local.sh 4k6u_ABC 2.107_14.279_9.934 8\n",
      "sh ./src/process_one_sample_local.sh 1dzj_A -0.016_26.705_12.921 8\n",
      "sh ./src/process_one_sample_local.sh 5ab1_AC 3.443_77.395_170.939 8\n",
      "sh ./src/process_one_sample_local.sh 2hwg_AB 20.830_-8.155_19.134 8\n",
      "sh ./src/process_one_sample_local.sh 1dzk_A -0.522_26.511_12.434 8\n",
      "sh ./src/process_one_sample_local.sh 4nw2_A 32.315_-13.628_-11.803 8\n",
      "sh ./src/process_one_sample_local.sh 3tz4_A -9.091_-31.522_16.020 8\n",
      "sh ./src/process_one_sample_local.sh 1e06_A -0.781_26.496_12.495 8\n",
      "sh ./src/process_one_sample_local.sh 6cse_HLM 252.041_-14.287_-32.323 8\n",
      "sh ./src/process_one_sample_local.sh 4fxj_ABCD 26.876_-16.419_32.912 8\n",
      "sh ./src/process_one_sample_local.sh 4gs9_AB 13.313_-41.564_10.264 8\n",
      "sh ./src/process_one_sample_local.sh 5kbe_AB 29.944_2.708_-13.342 8\n",
      "19314\n"
     ]
    }
   ],
   "source": [
    "# check progress\n",
    "da = 8\n",
    "count_done = 0\n",
    "for item in list_task_pdbbind:\n",
    "    pdbid, center = item.split()\n",
    "    if os.path.exists('./AnchorOutput/{}_center_{}_da_{}/am_list.npy'.format(pdbid, center, da)):\n",
    "        count_done += 1\n",
    "    elif os.path.exists('./AnchorOutput/{}_center_{}_da_2/am_list.npy'.format(pdbid, center)):\n",
    "        print('sh ./src/process_one_sample_local.sh {} {} {}'.format(pdbid, center, da))\n",
    "print(count_done)"
   ]
  },
  {
   "cell_type": "code",
   "execution_count": null,
   "metadata": {},
   "outputs": [],
   "source": []
  }
 ],
 "metadata": {
  "kernelspec": {
   "display_name": "Python 3",
   "language": "python",
   "name": "python3"
  },
  "language_info": {
   "codemirror_mode": {
    "name": "ipython",
    "version": 3
   },
   "file_extension": ".py",
   "mimetype": "text/x-python",
   "name": "python",
   "nbconvert_exporter": "python",
   "pygments_lexer": "ipython3",
   "version": "3.7.4"
  }
 },
 "nbformat": 4,
 "nbformat_minor": 2
}
