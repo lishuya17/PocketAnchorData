{
 "cells": [
  {
   "cell_type": "code",
   "execution_count": 1,
   "metadata": {},
   "outputs": [],
   "source": [
    "import numpy as np\n",
    "import pandas as pd\n",
    "import torch\n",
    "import pymol\n",
    "from pymol import cmd\n",
    "import os, time, sys, pickle\n",
    "from collections import defaultdict\n",
    "from sklearn.metrics import pairwise_distances\n",
    "from collections import defaultdict"
   ]
  },
  {
   "cell_type": "markdown",
   "metadata": {},
   "source": [
    "### 0. Define dataset parameters"
   ]
  },
  {
   "cell_type": "code",
   "execution_count": 2,
   "metadata": {},
   "outputs": [],
   "source": [
    "da = 8\n",
    "scpdb_path = '/data/lishuya/software/scPDB/'\n",
    "\n",
    "outdir = './PocketDetectionData_scPDB_da{}/'.format(da)\n",
    "if not os.path.exists(outdir):\n",
    "    os.mkdir(outdir)"
   ]
  },
  {
   "cell_type": "markdown",
   "metadata": {},
   "source": [
    "### 1. Load dataset files"
   ]
  },
  {
   "cell_type": "code",
   "execution_count": 3,
   "metadata": {},
   "outputs": [
    {
     "data": {
      "text/plain": [
       "9444"
      ]
     },
     "execution_count": 3,
     "metadata": {},
     "output_type": "execute_result"
    }
   ],
   "source": [
    "deepsurf_list = []\n",
    "with open('lists/deepsurf_scPDB.txt', 'r') as f:\n",
    "    for line in f.readlines():\n",
    "        deepsurf_list.append(line.strip())\n",
    "len(deepsurf_list)"
   ]
  },
  {
   "cell_type": "code",
   "execution_count": 4,
   "metadata": {},
   "outputs": [
    {
     "data": {
      "text/plain": [
       "9442"
      ]
     },
     "execution_count": 4,
     "metadata": {},
     "output_type": "execute_result"
    }
   ],
   "source": [
    "pdbid_chain_dict = {}\n",
    "with open('lists/pdbid_chain_list_scPDB.txt') as f:\n",
    "    for line in f.readlines():\n",
    "        pdbid, chains = line.strip().split('_')\n",
    "        pdbid_chain_dict[pdbid] = chains\n",
    "len(pdbid_chain_dict)"
   ]
  },
  {
   "cell_type": "code",
   "execution_count": 5,
   "metadata": {},
   "outputs": [
    {
     "data": {
      "text/plain": [
       "16612"
      ]
     },
     "execution_count": 5,
     "metadata": {},
     "output_type": "execute_result"
    }
   ],
   "source": [
    "pdbid_to_folder = defaultdict(lambda: [])\n",
    "for fname in os.listdir(scpdb_path):\n",
    "    pdbid_to_folder[fname[:4]].append(fname)\n",
    "len(pdbid_to_folder)"
   ]
  },
  {
   "cell_type": "markdown",
   "metadata": {},
   "source": [
    "### 2. Get protein features"
   ]
  },
  {
   "cell_type": "code",
   "execution_count": 6,
   "metadata": {},
   "outputs": [
    {
     "name": "stdout",
     "output_type": "stream",
     "text": [
      "9442/9442, time 109.02 s\n",
      "anchor_dict 9436\n"
     ]
    }
   ],
   "source": [
    "anchor_dict = {}\n",
    "i = 0\n",
    "total = len(pdbid_chain_dict)\n",
    "t1 = time.time()\n",
    "\n",
    "for pdbid in pdbid_chain_dict:\n",
    "    chains = pdbid_chain_dict[pdbid]\n",
    "    i += 1\n",
    "    print('{}/{}, time {:.2f} s\\r'.format(i, total, time.time()-t1), end=\"\")\n",
    "\n",
    "    try:\n",
    "        anchor_dict[pdbid] = np.load('AnchorOutput/{}_{}_da_{}/anchors.npy'.format(pdbid, chains, da))[0]\n",
    "    except:\n",
    "        pass\n",
    "\n",
    "print(\"\\nanchor_dict\", len(anchor_dict))"
   ]
  },
  {
   "cell_type": "code",
   "execution_count": 7,
   "metadata": {},
   "outputs": [
    {
     "name": "stdout",
     "output_type": "stream",
     "text": [
      "9442/9442, time 161.97 s\r"
     ]
    },
    {
     "data": {
      "text/plain": [
       "9241"
      ]
     },
     "execution_count": 7,
     "metadata": {},
     "output_type": "execute_result"
    }
   ],
   "source": [
    "atom_dict = {}\n",
    "\n",
    "i = 0\n",
    "t1 = time.time()\n",
    "\n",
    "for pdbid in pdbid_chain_dict:\n",
    "    chains = pdbid_chain_dict[pdbid]\n",
    "    i += 1\n",
    "    print('{}/{}, time {:.2f} s\\r'.format(i, total, time.time()-t1), end=\"\")\n",
    "\n",
    "    try:\n",
    "        repeat_list = pickle.load(open('AnchorOutput/{}_{}_da_{}/atom_feature.pk'\\\n",
    "                                          .format(pdbid, chains, da), 'rb'))[0]\n",
    "        atom_dict[pdbid] = repeat_list[0]    \n",
    "    except:\n",
    "        pass\n",
    "len(atom_dict)"
   ]
  },
  {
   "cell_type": "code",
   "execution_count": 8,
   "metadata": {},
   "outputs": [
    {
     "name": "stdout",
     "output_type": "stream",
     "text": [
      "9442/9442, time 179.31 s\r"
     ]
    },
    {
     "data": {
      "text/plain": [
       "9239"
      ]
     },
     "execution_count": 8,
     "metadata": {},
     "output_type": "execute_result"
    }
   ],
   "source": [
    "masif_feature_coord_nei_dict = {}\n",
    "i = 0\n",
    "t1 = time.time()\n",
    "\n",
    "for pdbid in pdbid_chain_dict:\n",
    "    chains = pdbid_chain_dict[pdbid]\n",
    "    i += 1\n",
    "    print('{}/{}, time {:.2f} s\\r'.format(i, total, time.time()-t1), end=\"\")\n",
    "\n",
    "    try:\n",
    "        masif_feature = np.load('AnchorOutput/{}_{}_da_{}/masif_feature.npy'.format(pdbid, chains, da))\n",
    "        masif_neighbor = np.load('AnchorOutput/{}_{}_da_{}/masif_neighbor.npy'.format(pdbid, chains, da))\n",
    "        masif_coords = []\n",
    "        masif_feature_coord_nei_dict[pdbid] = (masif_feature, masif_coords, masif_neighbor)\n",
    "    except:\n",
    "        pass\n",
    "len(masif_feature_coord_nei_dict)"
   ]
  },
  {
   "cell_type": "code",
   "execution_count": 9,
   "metadata": {
    "scrolled": true
   },
   "outputs": [
    {
     "name": "stdout",
     "output_type": "stream",
     "text": [
      "1eii [Errno 2] No such file or directory: 'AnchorOutput/1eii_A_da_8/am_list.pt'\n",
      "False False False\n",
      "1gzu [Errno 2] No such file or directory: 'AnchorOutput/1gzu_ABC_da_8/am_list.pt'\n",
      "False False False\n",
      "1h35 [Errno 2] No such file or directory: 'AnchorOutput/1h35_C_da_8/am_list.pt'\n",
      "False False False\n",
      "1h48 [Errno 2] No such file or directory: 'AnchorOutput/1h48_DEF_da_8/am_list.pt'\n",
      "False False False\n",
      "1h7u [Errno 2] No such file or directory: 'AnchorOutput/1h7u_A_da_8/am_list.pt'\n",
      "False False False\n",
      "1h8h [Errno 2] No such file or directory: 'AnchorOutput/1h8h_ABCDEFG_da_8/am_list.pt'\n",
      "False True True\n",
      "1hwz [Errno 2] No such file or directory: 'AnchorOutput/1hwz_ABCDEF_da_8/am_list.pt'\n",
      "False False False\n",
      "1kp8 [Errno 2] No such file or directory: 'AnchorOutput/1kp8_ABCDEFGHIJKLMN_da_8/am_list.pt'\n",
      "False False False\n",
      "1mab [Errno 2] No such file or directory: 'AnchorOutput/1mab_ABG_da_8/am_list.pt'\n",
      "False False False\n",
      "1o6q [Errno 2] No such file or directory: 'AnchorOutput/1o6q_C_da_8/am_list.pt'\n",
      "False False False\n",
      "1oec [Errno 2] No such file or directory: 'AnchorOutput/1oec_A_da_8/am_list.pt'\n",
      "False False False\n",
      "1og6 [Errno 2] No such file or directory: 'AnchorOutput/1og6_ABC_da_8/am_list.pt'\n",
      "False False False\n",
      "1ol5 [Errno 2] No such file or directory: 'AnchorOutput/1ol5_AB_da_8/am_list.pt'\n",
      "False False False\n",
      "1orh [Errno 2] No such file or directory: 'AnchorOutput/1orh_AB_da_8/am_list.pt'\n",
      "False False False\n",
      "1pf9 [Errno 2] No such file or directory: 'AnchorOutput/1pf9_ABCDEFGHIJKLMNOPQRSTU_da_8/am_list.pt'\n",
      "False False False\n",
      "1pp9 [Errno 2] No such file or directory: 'AnchorOutput/1pp9_ABCDEFGHIJNOPQRSTUVW_da_8/am_list.pt'\n",
      "False False False\n",
      "1ppj [Errno 2] No such file or directory: 'AnchorOutput/1ppj_ABCDEFGHIJNOPQRSTUVW_da_8/am_list.pt'\n",
      "False False False\n",
      "1qp8 [Errno 2] No such file or directory: 'AnchorOutput/1qp8_AB_da_8/am_list.pt'\n",
      "False False False\n",
      "1qy5 [Errno 2] No such file or directory: 'AnchorOutput/1qy5_A_da_8/am_list.pt'\n",
      "False False False\n",
      "1sx4 [Errno 2] No such file or directory: 'AnchorOutput/1sx4_ABCDEFGHIJKLMNOPQRSTU_da_8/am_list.pt'\n",
      "False False False\n",
      "1u0y [Errno 2] No such file or directory: 'AnchorOutput/1u0y_A_da_8/am_list.pt'\n",
      "False False False\n",
      "1ung [Errno 2] No such file or directory: 'AnchorOutput/1ung_BE_da_8/am_list.pt'\n",
      "False False False\n",
      "1uys [Errno 2] No such file or directory: 'AnchorOutput/1uys_BC_da_8/am_list.pt'\n",
      "False False False\n",
      "1v1a [Errno 2] No such file or directory: 'AnchorOutput/1v1a_AB_da_8/am_list.pt'\n",
      "False False False\n",
      "1v1b [Errno 2] No such file or directory: 'AnchorOutput/1v1b_CD_da_8/am_list.pt'\n",
      "False False False\n",
      "1w1w [Errno 2] No such file or directory: 'AnchorOutput/1w1w_BF_da_8/am_list.pt'\n",
      "False False False\n",
      "1w22 [Errno 2] No such file or directory: 'AnchorOutput/1w22_B_da_8/am_list.pt'\n",
      "False False False\n",
      "1w2x [Errno 2] No such file or directory: 'AnchorOutput/1w2x_BC_da_8/am_list.pt'\n",
      "False False False\n",
      "1w4a [Errno 2] No such file or directory: 'AnchorOutput/1w4a_ABC_da_8/am_list.pt'\n",
      "False False False\n",
      "1w5a [Errno 2] No such file or directory: 'AnchorOutput/1w5a_A_da_8/am_list.pt'\n",
      "False False False\n",
      "1w5b [Errno 2] No such file or directory: 'AnchorOutput/1w5b_A_da_8/am_list.pt'\n",
      "False False False\n",
      "1w5t [Errno 2] No such file or directory: 'AnchorOutput/1w5t_C_da_8/am_list.pt'\n",
      "False False False\n",
      "1w88 [Errno 2] No such file or directory: 'AnchorOutput/1w88_ABCDI_da_8/am_list.pt'\n",
      "False False False\n",
      "1wc0 [Errno 2] No such file or directory: 'AnchorOutput/1wc0_AB_da_8/am_list.pt'\n",
      "False False False\n",
      "1wc1 [Errno 2] No such file or directory: 'AnchorOutput/1wc1_BC_da_8/am_list.pt'\n",
      "False False False\n",
      "1wc3 [Errno 2] No such file or directory: 'AnchorOutput/1wc3_AB_da_8/am_list.pt'\n",
      "False False False\n",
      "1wc4 [Errno 2] No such file or directory: 'AnchorOutput/1wc4_AB_da_8/am_list.pt'\n",
      "False False False\n",
      "1xjg [Errno 2] No such file or directory: 'AnchorOutput/1xjg_AB_da_8/am_list.pt'\n",
      "False False False\n",
      "1xxj [Errno 2] No such file or directory: 'AnchorOutput/1xxj_ABCD_da_8/am_list.pt'\n",
      "False False False\n",
      "1yl7 [Errno 2] No such file or directory: 'AnchorOutput/1yl7_ABCD_da_8/am_list.pt'\n",
      "False False False\n",
      "1zm4 [Errno 2] No such file or directory: 'AnchorOutput/1zm4_EF_da_8/am_list.pt'\n",
      "False True True\n",
      "2bdz [Errno 2] No such file or directory: 'AnchorOutput/2bdz__da_8/am_list.pt'\n",
      "False False False\n",
      "2bfy [Errno 2] No such file or directory: 'AnchorOutput/2bfy_BC_da_8/am_list.pt'\n",
      "False False False\n",
      "2bkk [Errno 2] No such file or directory: 'AnchorOutput/2bkk_AB_da_8/am_list.pt'\n",
      "False False False\n",
      "2bo7 [Errno 2] No such file or directory: 'AnchorOutput/2bo7_ABCD_da_8/am_list.pt'\n",
      "False False False\n",
      "2bo8 [Errno 2] No such file or directory: 'AnchorOutput/2bo8_ABCD_da_8/am_list.pt'\n",
      "False False False\n",
      "2bru [Errno 2] No such file or directory: 'AnchorOutput/2bru_ABC_da_8/am_list.pt'\n",
      "False False False\n",
      "2bt0 [Errno 2] No such file or directory: 'AnchorOutput/2bt0_B_da_8/am_list.pt'\n",
      "False False False\n",
      "2bu2 [Errno 2] No such file or directory: 'AnchorOutput/2bu2_A_da_8/am_list.pt'\n",
      "False False False\n",
      "2bu7 [Errno 2] No such file or directory: 'AnchorOutput/2bu7_A_da_8/am_list.pt'\n",
      "False False False\n",
      "2bu8 [Errno 2] No such file or directory: 'AnchorOutput/2bu8_A_da_8/am_list.pt'\n",
      "False False False\n",
      "2c27 [Errno 2] No such file or directory: 'AnchorOutput/2c27_A_da_8/am_list.pt'\n",
      "False False False\n",
      "2c2a [Errno 2] No such file or directory: 'AnchorOutput/2c2a_A_da_8/am_list.pt'\n",
      "False False False\n",
      "2c2b [Errno 2] No such file or directory: 'AnchorOutput/2c2b_AB_da_8/am_list.pt'\n",
      "False False False\n",
      "2c31 [Errno 2] No such file or directory: 'AnchorOutput/2c31_AB_da_8/am_list.pt'\n",
      "False False False\n",
      "2c3y [Errno 2] No such file or directory: 'AnchorOutput/2c3y_AB_da_8/am_list.pt'\n",
      "False False False\n",
      "2c5e [Errno 2] No such file or directory: 'AnchorOutput/2c5e_AB_da_8/am_list.pt'\n",
      "False False False\n",
      "2c6h [Errno 2] No such file or directory: 'AnchorOutput/2c6h_A_da_8/am_list.pt'\n",
      "False False False\n",
      "2c7x [Errno 2] No such file or directory: 'AnchorOutput/2c7x_A_da_8/am_list.pt'\n",
      "False False False\n",
      "2cb3 [Errno 2] No such file or directory: 'AnchorOutput/2cb3_A_da_8/am_list.pt'\n",
      "False False False\n",
      "2cd8 [Errno 2] No such file or directory: 'AnchorOutput/2cd8_B_da_8/am_list.pt'\n",
      "False False False\n",
      "2ce7 [Errno 2] No such file or directory: 'AnchorOutput/2ce7_ABC_da_8/am_list.pt'\n",
      "False False False\n",
      "2cea [Errno 2] No such file or directory: 'AnchorOutput/2cea_DEF_da_8/am_list.pt'\n",
      "False False False\n",
      "2cft [Errno 2] No such file or directory: 'AnchorOutput/2cft_A_da_8/am_list.pt'\n",
      "False False False\n",
      "2ck3 [Errno 2] No such file or directory: 'AnchorOutput/2ck3_ABCDEFGHI_da_8/am_list.pt'\n",
      "False False False\n",
      "2cl5 [Errno 2] No such file or directory: 'AnchorOutput/2cl5_A_da_8/am_list.pt'\n",
      "False False False\n",
      "2cmj [Errno 2] No such file or directory: 'AnchorOutput/2cmj_AB_da_8/am_list.pt'\n",
      "False False False\n",
      "2cmv [Errno 2] No such file or directory: 'AnchorOutput/2cmv_AB_da_8/am_list.pt'\n",
      "False False False\n",
      "2f2h [Errno 2] No such file or directory: 'AnchorOutput/2f2h_ABCDEF_da_8/at_list.pt'\n",
      "True False False\n",
      "2g0l [Errno 2] No such file or directory: 'AnchorOutput/2g0l_A_da_8/am_list.pt'\n",
      "False False False\n",
      "2gm1 [Errno 2] No such file or directory: 'AnchorOutput/2gm1_D_da_8/am_list.pt'\n",
      "False False False\n",
      "2itw [Errno 2] No such file or directory: 'AnchorOutput/2itw_A_da_8/am_list.pt'\n",
      "False False False\n",
      "2iut [Errno 2] No such file or directory: 'AnchorOutput/2iut_AB_da_8/am_list.pt'\n",
      "False False False\n",
      "2iuz [Errno 2] No such file or directory: 'AnchorOutput/2iuz_B_da_8/am_list.pt'\n",
      "False False False\n",
      "2iwh [Errno 2] No such file or directory: 'AnchorOutput/2iwh_AB_da_8/am_list.pt'\n",
      "False False False\n",
      "2ix5 [Errno 2] No such file or directory: 'AnchorOutput/2ix5_ABCD_da_8/am_list.pt'\n",
      "False False False\n",
      "2iyp [Errno 2] No such file or directory: 'AnchorOutput/2iyp_AB_da_8/am_list.pt'\n",
      "False False False\n",
      "2j3n [Errno 2] No such file or directory: 'AnchorOutput/2j3n_AB_da_8/am_list.pt'\n",
      "False False False\n",
      "2j4z [Errno 2] No such file or directory: 'AnchorOutput/2j4z_B_da_8/am_list.pt'\n",
      "False False False\n",
      "2j50 [Errno 2] No such file or directory: 'AnchorOutput/2j50_B_da_8/am_list.pt'\n",
      "False False False\n",
      "2j5b [Errno 2] No such file or directory: 'AnchorOutput/2j5b_AB_da_8/am_list.pt'\n",
      "False False False\n",
      "2j5s [Errno 2] No such file or directory: 'AnchorOutput/2j5s_AB_da_8/am_list.pt'\n",
      "False False False\n"
     ]
    },
    {
     "name": "stdout",
     "output_type": "stream",
     "text": [
      "2j9f [Errno 2] No such file or directory: 'AnchorOutput/2j9f_ABCD_da_8/am_list.pt'\n",
      "False False False\n",
      "2jae [Errno 2] No such file or directory: 'AnchorOutput/2jae_AB_da_8/am_list.pt'\n",
      "False False False\n",
      "2jb1 [Errno 2] No such file or directory: 'AnchorOutput/2jb1_AB_da_8/am_list.pt'\n",
      "False False False\n",
      "2jb2 [Errno 2] No such file or directory: 'AnchorOutput/2jb2_AB_da_8/am_list.pt'\n",
      "False False False\n",
      "2jg3 [Errno 2] No such file or directory: 'AnchorOutput/2jg3_DEF_da_8/am_list.pt'\n",
      "False False False\n",
      "2kwi [Errno 2] No such file or directory: 'AnchorOutput/2kwi_AB_da_8/am_list.pt'\n",
      "False False False\n",
      "2ldb [Errno 2] No such file or directory: 'AnchorOutput/2ldb_ABCD_da_8/at_list.pt'\n",
      "True False False\n",
      "2nmv [Errno 2] No such file or directory: 'AnchorOutput/2nmv_ABD_da_8/am_list.pt'\n",
      "False False False\n",
      "2ogi [Errno 2] No such file or directory: 'AnchorOutput/2ogi_AB_da_8/am_list.pt'\n",
      "False False False\n",
      "2pdt [Errno 2] No such file or directory: 'AnchorOutput/2pdt_B_da_8/am_list.pt'\n",
      "False False False\n",
      "2q3o [Errno 2] No such file or directory: 'AnchorOutput/2q3o__da_8/am_list.pt'\n",
      "False False False\n",
      "2qcs [Errno 2] No such file or directory: 'AnchorOutput/2qcs_AB_da_8/am_list.pt'\n",
      "False False False\n",
      "2qds [Errno 2] No such file or directory: 'AnchorOutput/2qds_A_da_8/am_list.pt'\n",
      "False False False\n",
      "2rc3 [Errno 2] No such file or directory: 'AnchorOutput/2rc3_AD_da_8/am_list.pt'\n",
      "False False False\n",
      "2v0i [Errno 2] No such file or directory: 'AnchorOutput/2v0i_A_da_8/am_list.pt'\n",
      "False False False\n",
      "2v18 [Errno 2] No such file or directory: 'AnchorOutput/2v18_ABCDEFGHIJKL_da_8/am_list.pt'\n",
      "False False False\n",
      "2v74 [Errno 2] No such file or directory: 'AnchorOutput/2v74_BD_da_8/am_list.pt'\n",
      "False False False\n",
      "2vht [Errno 2] No such file or directory: 'AnchorOutput/2vht_ABC_da_8/am_list.pt'\n",
      "False False False\n",
      "2vpy [Errno 2] No such file or directory: 'AnchorOutput/2vpy_ABCEFG_da_8/am_list.pt'\n",
      "False False False\n",
      "2vpz [Errno 2] No such file or directory: 'AnchorOutput/2vpz_ABCEFG_da_8/am_list.pt'\n",
      "False False False\n",
      "2vss [Errno 2] No such file or directory: 'AnchorOutput/2vss_ABCDEF_da_8/am_list.pt'\n",
      "False False False\n",
      "2vwi [Errno 2] No such file or directory: 'AnchorOutput/2vwi_ABCD_da_8/am_list.pt'\n",
      "False False False\n",
      "2vyx [Errno 2] No such file or directory: 'AnchorOutput/2vyx_ABCDEFGHIJKL_da_8/am_list.pt'\n",
      "False False False\n",
      "2vzz [Errno 2] No such file or directory: 'AnchorOutput/2vzz_ABCD_da_8/am_list.pt'\n",
      "False False False\n",
      "2w0d [Errno 2] No such file or directory: 'AnchorOutput/2w0d_C_da_8/am_list.pt'\n",
      "False False False\n",
      "2w0v [Errno 2] No such file or directory: 'AnchorOutput/2w0v_A_da_8/am_list.pt'\n",
      "False False False\n",
      "2w0w [Errno 2] No such file or directory: 'AnchorOutput/2w0w_A_da_8/am_list.pt'\n",
      "False False False\n",
      "2w3w [Errno 2] No such file or directory: 'AnchorOutput/2w3w_A_da_8/am_list.pt'\n",
      "False False False\n",
      "2w8y [Errno 2] No such file or directory: 'AnchorOutput/2w8y_B_da_8/am_list.pt'\n",
      "False False False\n",
      "2w98 [Errno 2] No such file or directory: 'AnchorOutput/2w98_B_da_8/am_list.pt'\n",
      "False False False\n",
      "2w9g [Errno 2] No such file or directory: 'AnchorOutput/2w9g_A_da_8/am_list.pt'\n",
      "False False False\n",
      "2wbd [Errno 2] No such file or directory: 'AnchorOutput/2wbd_EFGH_da_8/am_list.pt'\n",
      "False False False\n",
      "2wkm [Errno 2] No such file or directory: 'AnchorOutput/2wkm_A_da_8/am_list.pt'\n",
      "False False False\n",
      "2x19 [Errno 2] No such file or directory: 'AnchorOutput/2x19_AB_da_8/am_list.pt'\n",
      "False False False\n",
      "2x7f [Errno 2] No such file or directory: 'AnchorOutput/2x7f_E_da_8/am_list.pt'\n",
      "False False False\n",
      "2xab [Errno 2] No such file or directory: 'AnchorOutput/2xab_B_da_8/am_list.pt'\n",
      "False False False\n",
      "2xcl [Errno 2] No such file or directory: 'AnchorOutput/2xcl_A_da_8/am_list.pt'\n",
      "False False False\n",
      "2xjj [Errno 2] No such file or directory: 'AnchorOutput/2xjj_B_da_8/am_list.pt'\n",
      "False False False\n",
      "2xuj [Errno 2] No such file or directory: 'AnchorOutput/2xuj_AB_da_8/am_list.pt'\n",
      "False False False\n",
      "2y99 [Errno 2] No such file or directory: 'AnchorOutput/2y99_AB_da_8/am_list.pt'\n",
      "False False False\n",
      "2yof [Errno 2] No such file or directory: 'AnchorOutput/2yof__da_8/am_list.pt'\n",
      "False False False\n",
      "2zeb [Errno 2] No such file or directory: 'AnchorOutput/2zeb_ABCD_da_8/am_list.pt'\n",
      "False False False\n",
      "3ake [Errno 2] No such file or directory: 'AnchorOutput/3ake_A_da_8/am_list.pt'\n",
      "False False False\n",
      "3bos [Errno 2] No such file or directory: 'AnchorOutput/3bos_AB_da_8/am_list.pt'\n",
      "False False False\n",
      "3cz0 [Errno 2] No such file or directory: 'AnchorOutput/3cz0_AB_da_8/am_list.pt'\n",
      "False False False\n",
      "3egv [Errno 2] No such file or directory: 'AnchorOutput/3egv_AB_da_8/am_list.pt'\n",
      "False False False\n",
      "3g07 [Errno 2] No such file or directory: 'AnchorOutput/3g07_F_da_8/am_list.pt'\n",
      "False False False\n",
      "3idb [Errno 2] No such file or directory: 'AnchorOutput/3idb_AB_da_8/am_list.pt'\n",
      "False False False\n",
      "3iex [Errno 2] No such file or directory: 'AnchorOutput/3iex_ABC_da_8/am_list.pt'\n",
      "False False False\n",
      "3jxe [Errno 2] No such file or directory: 'AnchorOutput/3jxe_AB_da_8/am_list.pt'\n",
      "False True True\n",
      "3ket [Errno 2] No such file or directory: 'AnchorOutput/3ket_ABC_da_8/am_list.pt'\n",
      "False False False\n",
      "3l70 [Errno 2] No such file or directory: 'AnchorOutput/3l70_ABCDEFGHIJNOPQRSTUVW_da_8/am_list.pt'\n",
      "False False False\n",
      "3l71 [Errno 2] No such file or directory: 'AnchorOutput/3l71_ABCDEFGHIJNOPQRSTUVW_da_8/am_list.pt'\n",
      "False False False\n",
      "3lns [Errno 2] No such file or directory: 'AnchorOutput/3lns_BD_da_8/am_list.pt'\n",
      "False False False\n",
      "3lv1 [Errno 2] No such file or directory: 'AnchorOutput/3lv1_AB_da_8/am_list.pt'\n",
      "False False False\n",
      "3mvq [Errno 2] No such file or directory: 'AnchorOutput/3mvq_ABCDEF_da_8/am_list.pt'\n",
      "False False False\n",
      "3mw9 [Errno 2] No such file or directory: 'AnchorOutput/3mw9_ABCDEF_da_8/am_list.pt'\n",
      "False False False\n",
      "3ogw [Errno 2] No such file or directory: 'AnchorOutput/3ogw_ABC_da_8/am_list.pt'\n",
      "False False False\n",
      "3q23 [Errno 2] No such file or directory: 'AnchorOutput/3q23_AC_da_8/am_list.pt'\n",
      "False False False\n",
      "3ql6 [Errno 2] No such file or directory: 'AnchorOutput/3ql6_A_da_8/am_list.pt'\n",
      "False False False\n",
      "3s3r [Errno 2] No such file or directory: 'AnchorOutput/3s3r__da_8/am_list.pt'\n",
      "False False False\n",
      "3sop [Errno 2] No such file or directory: 'AnchorOutput/3sop_AB_da_8/am_list.pt'\n",
      "False False False\n",
      "3tgu [Errno 2] No such file or directory: 'AnchorOutput/3tgu_ABCDEFGHIJNOPQRSTUVW_da_8/am_list.pt'\n",
      "False False False\n",
      "3uk6 [Errno 2] No such file or directory: 'AnchorOutput/3uk6_EFGHKL_da_8/am_list.pt'\n",
      "False False False\n",
      "3uwe [Errno 2] No such file or directory: 'AnchorOutput/3uwe_A_da_8/am_list.pt'\n",
      "False False False\n",
      "3zkn [Errno 2] No such file or directory: 'AnchorOutput/3zkn_AHL_da_8/am_list.pt'\n",
      "False False False\n",
      "3zv5 [Errno 2] No such file or directory: 'AnchorOutput/3zv5_AB_da_8/am_list.pt'\n",
      "False False False\n",
      "3zvm [Errno 2] No such file or directory: 'AnchorOutput/3zvm_AE_da_8/am_list.pt'\n",
      "False False False\n",
      "3zxi [Errno 2] No such file or directory: 'AnchorOutput/3zxi_AB_da_8/am_list.pt'\n",
      "False False False\n",
      "4a16 [Errno 2] No such file or directory: 'AnchorOutput/4a16_CD_da_8/am_list.pt'\n",
      "False False False\n",
      "4a5s [Errno 2] No such file or directory: 'AnchorOutput/4a5s_ABC_da_8/am_list.pt'\n",
      "False False False\n",
      "4ans [Errno 2] No such file or directory: 'AnchorOutput/4ans_A_da_8/am_list.pt'\n",
      "False False False\n",
      "4aqk [Errno 2] No such file or directory: 'AnchorOutput/4aqk_A_da_8/am_list.pt'\n",
      "False False False\n",
      "4bmo [Errno 2] No such file or directory: 'AnchorOutput/4bmo_AB_da_8/am_list.pt'\n",
      "False False False\n",
      "4bmp [Errno 2] No such file or directory: 'AnchorOutput/4bmp_AB_da_8/am_list.pt'\n",
      "False False False\n",
      "4bqz [Errno 2] No such file or directory: 'AnchorOutput/4bqz_A_da_8/am_list.pt'\n",
      "False False False\n",
      "4br0 [Errno 2] No such file or directory: 'AnchorOutput/4br0_A_da_8/am_list.pt'\n",
      "False False False\n",
      "4bu9 [Errno 2] No such file or directory: 'AnchorOutput/4bu9_B_da_8/am_list.pt'\n",
      "False False False\n",
      "4c1m [Errno 2] No such file or directory: 'AnchorOutput/4c1m_ACE_da_8/am_list.pt'\n",
      "False False False\n",
      "4c49 [Errno 2] No such file or directory: 'AnchorOutput/4c49_A_da_8/am_list.pt'\n",
      "False False False\n",
      "4cb6 [Errno 2] No such file or directory: 'AnchorOutput/4cb6_B_da_8/am_list.pt'\n",
      "False False False\n",
      "4ccb [Errno 2] No such file or directory: 'AnchorOutput/4ccb_A_da_8/am_list.pt'\n",
      "False False False\n",
      "4ccu [Errno 2] No such file or directory: 'AnchorOutput/4ccu_A_da_8/am_list.pt'\n",
      "False False False\n",
      "4ccz [Errno 2] No such file or directory: 'AnchorOutput/4ccz_A_da_8/am_list.pt'\n",
      "False False False\n"
     ]
    },
    {
     "name": "stdout",
     "output_type": "stream",
     "text": [
      "4d79 [Errno 2] No such file or directory: 'AnchorOutput/4d79_CD_da_8/am_list.pt'\n",
      "False False False\n",
      "4d7m [Errno 2] No such file or directory: 'AnchorOutput/4d7m_A_da_8/am_list.pt'\n",
      "False False False\n",
      "4d81 [Errno 2] No such file or directory: 'AnchorOutput/4d81_A_da_8/at_list.pt'\n",
      "True False False\n",
      "4dya [Errno 2] No such file or directory: 'AnchorOutput/4dya_B_da_8/am_list.pt'\n",
      "False False False\n",
      "4dyb [Errno 2] No such file or directory: 'AnchorOutput/4dyb_B_da_8/am_list.pt'\n",
      "False False False\n",
      "4egb [Errno 2] No such file or directory: 'AnchorOutput/4egb_EF_da_8/am_list.pt'\n",
      "False False False\n",
      "4fnc [Errno 2] No such file or directory: 'AnchorOutput/4fnc_ACD_da_8/am_list.pt'\n",
      "False False False\n",
      "4gdc [Errno 2] No such file or directory: 'AnchorOutput/4gdc_ABCD_da_8/am_list.pt'\n",
      "False False False\n",
      "4gdd [Errno 2] No such file or directory: 'AnchorOutput/4gdd_ABCD_da_8/am_list.pt'\n",
      "False False False\n",
      "4itr [Errno 2] No such file or directory: 'AnchorOutput/4itr_ABCD_da_8/am_list.pt'\n",
      "False True True\n",
      "4j6b [Errno 2] No such file or directory: 'AnchorOutput/4j6b_AB_da_8/am_list.pt'\n",
      "False False False\n",
      "4k6r [Errno 2] No such file or directory: 'AnchorOutput/4k6r_A_da_8/am_list.pt'\n",
      "False False False\n",
      "4kg1 [Errno 2] No such file or directory: 'AnchorOutput/4kg1_AB_da_8/am_list.pt'\n",
      "False False False\n",
      "4knz [Errno 2] No such file or directory: 'AnchorOutput/4knz_AB_da_8/am_list.pt'\n",
      "False False False\n",
      "4ktk [Errno 2] No such file or directory: 'AnchorOutput/4ktk_A_da_8/am_list.pt'\n",
      "False False False\n",
      "4lcg [Errno 2] No such file or directory: 'AnchorOutput/4lcg__da_8/am_list.pt'\n",
      "False False False\n",
      "4m83 [Errno 2] No such file or directory: 'AnchorOutput/4m83_B_da_8/am_list.pt'\n",
      "False False False\n",
      "4nt3 [Errno 2] No such file or directory: 'AnchorOutput/4nt3_A_da_8/am_list.pt'\n",
      "False False False\n",
      "4oa9 [Errno 2] No such file or directory: 'AnchorOutput/4oa9_A_da_8/am_list.pt'\n",
      "False False False\n",
      "4oac [Errno 2] No such file or directory: 'AnchorOutput/4oac_A_da_8/am_list.pt'\n",
      "False False False\n",
      "4otw [Errno 2] No such file or directory: 'AnchorOutput/4otw_A_da_8/am_list.pt'\n",
      "False False False\n",
      "4p63 [Errno 2] No such file or directory: 'AnchorOutput/4p63_ABCD_da_8/am_list.pt'\n",
      "False False False\n",
      "4pds [Errno 2] No such file or directory: 'AnchorOutput/4pds_A_da_8/am_list.pt'\n",
      "False False False\n",
      "4pt0 [Errno 2] No such file or directory: 'AnchorOutput/4pt0_ABCD_da_8/am_list.pt'\n",
      "False False False\n",
      "4pt3 [Errno 2] No such file or directory: 'AnchorOutput/4pt3_ABCD_da_8/am_list.pt'\n",
      "False False False\n",
      "4rts [Errno 2] No such file or directory: 'AnchorOutput/4rts_AFG_da_8/am_list.pt'\n",
      "False False False\n",
      "4ubf [Errno 2] No such file or directory: 'AnchorOutput/4ubf_CD_da_8/am_list.pt'\n",
      "False False False\n",
      "4uxx [Errno 2] No such file or directory: 'AnchorOutput/4uxx_ABC_da_8/am_list.pt'\n",
      "False False False\n",
      "4wbn [Errno 2] No such file or directory: 'AnchorOutput/4wbn_ABCDEF_da_8/am_list.pt'\n",
      "False False False\n",
      "4wct [Errno 2] No such file or directory: 'AnchorOutput/4wct__da_8/am_list.pt'\n",
      "False False False\n",
      "4x5s [Errno 2] No such file or directory: 'AnchorOutput/4x5s_AB_da_8/am_list.pt'\n",
      "False False False\n",
      "4y9q [Errno 2] No such file or directory: 'AnchorOutput/4y9q_A_da_8/am_list.pt'\n",
      "False False False\n",
      "5a0y [Errno 2] No such file or directory: 'AnchorOutput/5a0y_ABCDEF_da_8/am_list.pt'\n",
      "False False False\n",
      "5aaj [Errno 2] No such file or directory: 'AnchorOutput/5aaj_B_da_8/am_list.pt'\n",
      "False False False\n",
      "5c1d [Errno 2] No such file or directory: 'AnchorOutput/5c1d_AC_da_8/am_list.pt'\n",
      "False False False\n",
      "5c40 [Errno 2] No such file or directory: 'AnchorOutput/5c40_AB_da_8/am_list.pt'\n",
      "False False False\n",
      "5cto [Errno 2] No such file or directory: 'AnchorOutput/5cto_CD_da_8/am_list.pt'\n",
      "False False False\n",
      "5ftc [Errno 2] No such file or directory: 'AnchorOutput/5ftc_A_da_8/am_list.pt'\n",
      "False False False\n",
      "5ftf [Errno 2] No such file or directory: 'AnchorOutput/5ftf_A_da_8/am_list.pt'\n",
      "False False False\n",
      "5li5 [Errno 2] No such file or directory: 'AnchorOutput/5li5_A_da_8/am_list.pt'\n",
      "False False False\n",
      "7cat [Errno 2] No such file or directory: 'AnchorOutput/7cat_AB_da_8/at_list.pt'\n",
      "True False False\n",
      "8cat [Errno 2] No such file or directory: 'AnchorOutput/8cat_AB_da_8/at_list.pt'\n",
      "True False False\n",
      "\n",
      " 9234 9234 9234\n"
     ]
    }
   ],
   "source": [
    "import torch\n",
    "\n",
    "am_dict = {}\n",
    "aa_dict = {}\n",
    "at_dict = {}\n",
    "i = 0\n",
    "t1 = time.time()\n",
    "\n",
    "for pdbid in pdbid_chain_dict:\n",
    "    chains = pdbid_chain_dict[pdbid]\n",
    "    i += 1\n",
    "    if i % 100 == 0:\n",
    "        print('{}/{}, time {:.2f} s\\r'.format(i, total, time.time()-t1), end=\"\")\n",
    "    try:  \n",
    "        am = torch.load('AnchorOutput/{}_{}_da_{}/am_list.pt'.format(pdbid, chains, da))[0]\n",
    "        at = torch.load('AnchorOutput/{}_{}_da_{}/at_list.pt'.format(pdbid, chains, da))[0]\n",
    "        aa = torch.load('AnchorOutput/{}_{}_da_{}/aa_list.pt'.format(pdbid, chains, da))[0]\n",
    "        am_dict[pdbid] = am\n",
    "        at_dict[pdbid] = at\n",
    "        aa_dict[pdbid] = aa\n",
    "    except Exception as E:\n",
    "        print(pdbid, E)\n",
    "        print(\n",
    "            os.path.exists('AnchorOutput/{}_{}_da_{}/am_list.pt'.format(pdbid, chains, da)), \n",
    "            os.path.exists('AnchorOutput/{}_{}_da_{}/at_list.pt'.format(pdbid, chains, da)), \n",
    "            os.path.exists('AnchorOutput/{}_{}_da_{}/aa_list.pt'.format(pdbid, chains, da)), \n",
    "             )\n",
    "        pass\n",
    "    \n",
    "print('\\n', len(am_dict), len(aa_dict), len(at_dict))"
   ]
  },
  {
   "cell_type": "code",
   "execution_count": 10,
   "metadata": {},
   "outputs": [],
   "source": [
    "with open(outdir+'anchor_dict_thre'+str(da), 'wb') as f:\n",
    "    pickle.dump(anchor_dict, f)\n",
    "    \n",
    "with open(outdir+'atom_feature_coord_nei_dict_thre'+str(da), \"wb\") as f:\n",
    "    pickle.dump(atom_dict, f)\n",
    "\n",
    "with open(outdir+'masif_feature_coord_nei_dict', 'wb') as f:\n",
    "    pickle.dump(masif_feature_coord_nei_dict, f)\n",
    "    \n",
    "with open(outdir+'am_dict', 'wb') as f:\n",
    "    pickle.dump(am_dict, f)\n",
    "    \n",
    "with open(outdir+'aa_dict', 'wb') as f:\n",
    "    pickle.dump(aa_dict, f)\n",
    "    \n",
    "with open(outdir+'at_dict', 'wb') as f:\n",
    "    pickle.dump(at_dict, f)"
   ]
  },
  {
   "cell_type": "markdown",
   "metadata": {},
   "source": [
    "### 3. get label"
   ]
  },
  {
   "cell_type": "code",
   "execution_count": 11,
   "metadata": {},
   "outputs": [],
   "source": [
    "def get_ligand_counts_coords(pdbid, chains, removeHs=True):\n",
    "    if os.path.exists('MasifOutput/00-raw_pdbs/fixed_{}.pdb'.format(pdbid)):\n",
    "        filename = 'MasifOutput/00-raw_pdbs/fixed_{}.pdb'.format(pdbid)\n",
    "        protein = 'fixed_'+pdbid\n",
    "    elif os.path.exists('MasifOutput/00-raw_pdbs/{}.pdb'.format(pdbid)):\n",
    "        filename = 'MasifOutput/00-raw_pdbs/{}.pdb'.format(pdbid)\n",
    "        protein = pdbid\n",
    "    else:\n",
    "        print(\"NO pdb file\", pdbid)\n",
    "        return None\n",
    "#     print(filename)\n",
    "    pymol.cmd.reinitialize()\n",
    "    cmd.load(filename)\n",
    "    for folder in pdbid_to_folder[pdbid]:\n",
    "        cmd.load(scpdb_path+'{}/ligand.mol2'.format(folder))\n",
    "    if removeHs:\n",
    "        pymol.cmd.remove('hydro')\n",
    "    protein_coords = []\n",
    "    pymol.cmd.iterate_state(-1, \"{} and chain {} and not het\".format(protein, '+'.join(chains)),\n",
    "                            \"protein_coords.append((x,y,z))\", space=locals())\n",
    "    ligand_list = set()\n",
    "    pymol.cmd.iterate('ligand*', 'ligand_list.add(resn)', space=locals())    \n",
    "#     print('ligand_list', ligand_list)\n",
    "    count_dict, coord_dict = {}, {}\n",
    "    list_tabu = [\"HOH\", \"DOD\", \"WAT\", \"NAG\", \"MAN\", \"GLC\", \"ABA\", \"MPD\", \"GOL\", \"SO4\", \"PO4\", '', 'U', 'HEM', 'PI']\n",
    "    list_ligand_ok = set()\n",
    "    for ligand in ligand_list:\n",
    "        if ligand in list_tabu:\n",
    "            continue\n",
    "        resi_set = set()\n",
    "        ligand = ligand.upper()\n",
    "        pymol.cmd.iterate('resname {}'.format(ligand), \"resi_set.add(chain+'_'+resi)\", space=locals())\n",
    "#         print('resi_set', resi_set)\n",
    "        count_dict[ligand] = 0\n",
    "        for chain_resi in resi_set:\n",
    "            chain, resi = chain_resi.split('_')\n",
    "            pymol.cmd.select('{}_{}'.format(ligand, chain_resi), 'chain {} and resi {}'.format(chain, resi))\n",
    "            coords = []\n",
    "            pymol.cmd.iterate_state(-1, '{}_{}'.format(ligand, chain_resi), \"coords.append((x,y,z))\", space=locals())\n",
    "            if len(coords) < 5:\n",
    "                continue\n",
    "            coords = np.array(coords) \n",
    "#             print('coords', np.max(coords, 0), np.min(coords, 0))\n",
    "#             print(len(protein_coords), len(coords), pairwise_distances(protein_coords, coords).min())\n",
    "            \n",
    "            if pairwise_distances(protein_coords, coords).min() < 1.5:\n",
    "                continue\n",
    "            if pairwise_distances(protein_coords, coords).min() > 4:\n",
    "                continue\n",
    "            if pairwise_distances(protein_coords, np.mean(coords, 0, keepdims=True)).min() > 5.5:\n",
    "                continue\n",
    "            coord_dict['{}_{}'.format(ligand, chain_resi)] = coords\n",
    "            count_dict[ligand] += 1\n",
    "            list_ligand_ok.add(ligand)\n",
    "    return count_dict, coord_dict, list(list_ligand_ok)"
   ]
  },
  {
   "cell_type": "code",
   "execution_count": 12,
   "metadata": {},
   "outputs": [],
   "source": [
    "# pdbid = '3uzx'\n",
    "# scpdb_path+'{}/ligand.mol2'.format(pdbid_to_folder[pdbid])"
   ]
  },
  {
   "cell_type": "code",
   "execution_count": 13,
   "metadata": {},
   "outputs": [],
   "source": [
    "# get_ligand_counts_coords('3uzx', 'B')"
   ]
  },
  {
   "cell_type": "code",
   "execution_count": 14,
   "metadata": {},
   "outputs": [],
   "source": [
    "# pdbid_chain_dict['3uzx']"
   ]
  },
  {
   "cell_type": "code",
   "execution_count": 15,
   "metadata": {
    "scrolled": true
   },
   "outputs": [
    {
     "name": "stdout",
     "output_type": "stream",
     "text": [
      " PyMOL not running, entering library mode (experimental)\n",
      "557/9436, time 130.74 s\n",
      "NO LIGAND 557 1rml\n",
      "1984/9436, time 289.65 s\n",
      "NO LIGAND 1984 2iyf\n",
      "1992/9436, time 290.13 s\n",
      "NO LIGAND 1992 2j0d\n",
      "2092/9436, time 306.08 s\n",
      "NO LIGAND 2092 2kwi\n",
      "2111/9436, time 310.70 s\n",
      "NO LIGAND 2111 2mse\n",
      "2254/9436, time 325.67 s\n",
      "NO LIGAND 2254 2oxn\n",
      "2964/9436, time 404.80 s\n",
      "NO LIGAND 2964 2xup\n",
      "3361/9436, time 440.16 s\n",
      "NO LIGAND 3361 3au2\n",
      "3550/9436, time 459.43 s\n",
      "NO LIGAND 3550 3ck7\n",
      "4720/9436, time 591.93 s\n",
      "NO LIGAND 4720 3nu5\n",
      "5108/9436, time 636.79 s\n",
      "NO LIGAND 5108 3r0y\n",
      "5401/9436, time 671.98 s\n",
      "NO LIGAND 5401 3tfj\n",
      "5415/9436, time 673.73 s\n",
      "NO LIGAND 5415 3tjs\n",
      "5524/9436, time 686.53 s\n",
      "NO LIGAND 5524 3ug8\n",
      "5526/9436, time 686.60 s\n",
      "NO LIGAND 5526 3ugr\n",
      "5923/9436, time 742.58 s\n",
      "NO LIGAND 5923 3zhz\n",
      "6727/9436, time 842.27 s\n",
      "NO LIGAND 6727 4ef4\n",
      "6867/9436, time 859.53 s\n",
      "NO LIGAND 6867 4f9g\n",
      "7373/9436, time 926.11 s\n",
      "NO LIGAND 7373 4ig8\n",
      "7857/9436, time 1002.09 s\n",
      "NO LIGAND 7857 4lnb\n",
      "7924/9436, time 1013.72 s\n",
      "NO LIGAND 7924 4m83\n",
      "8084/9436, time 1038.35 s\n",
      "NO LIGAND 8084 4nmj\n",
      "8085/9436, time 1038.76 s\n",
      "NO LIGAND 8085 4nmk\n",
      "8086/9436, time 1039.17 s\n",
      "NO LIGAND 8086 4npt\n",
      "8677/9436, time 1120.06 s\n",
      "NO LIGAND 8677 4wdb\n",
      "9125/9436, time 1182.77 s\n",
      "NO LIGAND 9125 5cfn\n",
      "9155/9436, time 1186.84 s\n",
      "NO LIGAND 9155 5d4g\n",
      "count_dict_all 9409 coord_dict_all 9409\n"
     ]
    }
   ],
   "source": [
    "i = 0\n",
    "total = len(anchor_dict)\n",
    "t1 = time.time()\n",
    "\n",
    "count_dict_all = {}\n",
    "coord_dict_all = {}\n",
    "for pdbid in anchor_dict:\n",
    "    i += 1\n",
    "    chains = pdbid_chain_dict[pdbid]\n",
    "    print('{}/{}, time {:.2f} s\\r'.format(i, total, time.time()-t1), end=\"\")\n",
    "    try:\n",
    "        count_dict, coord_dict, list_ligand = get_ligand_counts_coords(pdbid, list(chains))\n",
    "        if len(list_ligand) == 0:\n",
    "            print('\\nNO LIGAND {} {}'.format(i, pdbid))\n",
    "            continue\n",
    "        count_dict_all[pdbid] = count_dict\n",
    "        coord_dict_all[pdbid] = coord_dict\n",
    "    except Exception as E:\n",
    "        print('\\n{} {} {}'.format(i, pdbid, E))\n",
    "print('count_dict_all', len(count_dict_all), 'coord_dict_all', len(coord_dict_all))"
   ]
  },
  {
   "cell_type": "code",
   "execution_count": 16,
   "metadata": {},
   "outputs": [
    {
     "data": {
      "text/plain": [
       "17244"
      ]
     },
     "execution_count": 16,
     "metadata": {},
     "output_type": "execute_result"
    }
   ],
   "source": [
    "# total number of ligands -- single\n",
    "\n",
    "a = 0\n",
    "for x in count_dict_all.values():\n",
    "    a += sum(x.values())\n",
    "a"
   ]
  },
  {
   "cell_type": "code",
   "execution_count": 17,
   "metadata": {},
   "outputs": [
    {
     "data": {
      "text/plain": [
       "9409"
      ]
     },
     "execution_count": 17,
     "metadata": {},
     "output_type": "execute_result"
    }
   ],
   "source": [
    "len(count_dict_all)"
   ]
  },
  {
   "cell_type": "markdown",
   "metadata": {},
   "source": [
    "### 3.2 get anchor labels"
   ]
  },
  {
   "cell_type": "code",
   "execution_count": 18,
   "metadata": {},
   "outputs": [
    {
     "name": "stdout",
     "output_type": "stream",
     "text": [
      "9408  \r"
     ]
    },
    {
     "data": {
      "text/plain": [
       "9409"
      ]
     },
     "execution_count": 18,
     "metadata": {},
     "output_type": "execute_result"
    }
   ],
   "source": [
    "# single\n",
    "\n",
    "label_dict_single = {}\n",
    "processed = 0\n",
    "\n",
    "for pdbid in count_dict_all:\n",
    "    count_dict = count_dict_all[pdbid]\n",
    "    print(processed, \" \\r\", end='')\n",
    "    ligand_coords = coord_dict_all[pdbid]\n",
    "    anchor_coords = anchor_dict[pdbid]\n",
    "    cpd_coords = np.concatenate(list(ligand_coords.values()), axis=0)\n",
    "    ag = pairwise_distances(anchor_coords, cpd_coords).min(axis=1)\n",
    "    label = (ag <= 4).astype(int)\n",
    "    label_dict_single[pdbid] = label\n",
    "    processed += 1\n",
    "\n",
    "len(label_dict_single)"
   ]
  },
  {
   "cell_type": "code",
   "execution_count": 19,
   "metadata": {},
   "outputs": [],
   "source": [
    "with open(outdir+'label_dict_single', 'wb') as f:\n",
    "    pickle.dump(label_dict_single, f)"
   ]
  },
  {
   "cell_type": "markdown",
   "metadata": {},
   "source": [
    "### 4. Save final dataset table"
   ]
  },
  {
   "cell_type": "code",
   "execution_count": 20,
   "metadata": {},
   "outputs": [
    {
     "data": {
      "text/plain": [
       "(9209, 9209, 9209)"
      ]
     },
     "execution_count": 20,
     "metadata": {},
     "output_type": "execute_result"
    }
   ],
   "source": [
    "i = 0\n",
    "total = len(list(anchor_dict.keys()))\n",
    "t1 = time.time()\n",
    "\n",
    "pdbid_list = []\n",
    "ligand_list = []\n",
    "num_ligand_list = []\n",
    "\n",
    "for pdbid in list(anchor_dict.keys()):\n",
    "    i += 1\n",
    "#     print('{}/{}, time {:.2f} s\\r'.format(i, total, time.time()-t1), end=\"\")\n",
    "    chains = pdbid_chain_dict[pdbid]\n",
    "\n",
    "    if pdbid not in count_dict_all:\n",
    "        continue\n",
    "    count_dict = count_dict_all[pdbid]\n",
    "    ligands = ','.join(list(count_dict.keys()))\n",
    "    num_ligands = sum(count_dict.values())\n",
    "    \n",
    "    if pdbid not in anchor_dict:\n",
    "        continue\n",
    "    if pdbid not in atom_dict:\n",
    "        continue  \n",
    "    if pdbid not in masif_feature_coord_nei_dict:\n",
    "        continue  \n",
    "    if pdbid not in am_dict:\n",
    "        continue  \n",
    "    if pdbid not in at_dict:\n",
    "        continue  \n",
    "    if pdbid not in aa_dict:\n",
    "        continue     \n",
    "    if pdbid not in label_dict_single:\n",
    "        continue  \n",
    "    pdbid_list.append(pdbid)\n",
    "    ligand_list.append(ligands)\n",
    "    num_ligand_list.append(num_ligands)\n",
    "    \n",
    "len(pdbid_list), len(ligand_list), len(num_ligand_list)"
   ]
  },
  {
   "cell_type": "code",
   "execution_count": 21,
   "metadata": {},
   "outputs": [],
   "source": [
    "table_single = pd.DataFrame()\n",
    "table_single['pdbid'] = pdbid_list\n",
    "table_single['ligand'] = ligand_list\n",
    "table_single['num_ligand'] = num_ligand_list\n",
    "table_single['chains'] = [pdbid_chain_dict[pdbid] for pdbid in pdbid_list]\n",
    "\n",
    "table_single.to_csv(outdir+'scPDB_table_pocket_single.tsv', sep='\\t', index=None)"
   ]
  },
  {
   "cell_type": "markdown",
   "metadata": {},
   "source": [
    "### Calculate protein similarity"
   ]
  },
  {
   "cell_type": "code",
   "execution_count": 22,
   "metadata": {},
   "outputs": [],
   "source": [
    "def get_fasta_str(pdbid, chains=None, removeHs=True, debug=False):\n",
    "    if os.path.exists('MasifOutput/00-raw_pdbs/fixed_{}.pdb'.format(pdbid)):\n",
    "        filename = 'MasifOutput/00-raw_pdbs/fixed_{}.pdb'.format(pdbid)\n",
    "        protein = 'fixed_'+pdbid\n",
    "    elif os.path.exists('MasifOutput/00-raw_pdbs/{}.pdb'.format(pdbid)):\n",
    "        filename = 'MasifOutput/00-raw_pdbs/{}.pdb'.format(pdbid)\n",
    "        protein = pdbid\n",
    "    else:\n",
    "        print(\"NO pdb file\", pdbid)\n",
    "        return None\n",
    "    \n",
    "    pymol.cmd.reinitialize()\n",
    "    pymol.cmd.load(filename)\n",
    "    fasta_str = pymol.cmd.get_fastastr(protein + ' and chain '+chains)\n",
    "    if len(fasta_str) == 0:\n",
    "        return None\n",
    "    \n",
    "    fasta_str = fasta_str.replace('?', 'X')\n",
    "    # print(fasta_str)\n",
    "    seq_dict = {}\n",
    "    for i, s in enumerate(fasta_str.split('\\n')):\n",
    "        if s.startswith('>'):\n",
    "            name = s\n",
    "            if i != 0:\n",
    "                seq_dict[name] = seq\n",
    "            seq = \"\"\n",
    "        else:\n",
    "            seq += s \n",
    "    seq_dict[name] = seq\n",
    "    \n",
    "    seq_set = set()\n",
    "    new_fasta_str = \"\"\n",
    "    for name, seq in seq_dict.items():\n",
    "        if seq not in seq_set and len(seq) >= 15:\n",
    "            new_fasta_str += name + '\\n' + seq + '\\n'\n",
    "            seq_set.add(seq)\n",
    "    \n",
    "    if len(new_fasta_str) == 0:\n",
    "        return None\n",
    "    else:\n",
    "        return new_fasta_str"
   ]
  },
  {
   "cell_type": "code",
   "execution_count": 23,
   "metadata": {},
   "outputs": [],
   "source": [
    "if da==4:\n",
    "    fw = open('coach420_seq.fasta', 'w')\n",
    "    coach_table = pd.read_csv('PocketDetectionData_COACH420_da6/coach420_table_pocket_full.tsv', sep='\\t')\n",
    "    print(coach_table.shape)\n",
    "    done = set()\n",
    "    for i in coach_table.index:\n",
    "        print('{}/{}\\r'.format(i, len(coach_table)), end=\"\")\n",
    "        pdbid, chains = coach_table.loc[i, ['pdbid', 'eval_chains']]\n",
    "        if pdbid not in done:\n",
    "            done.add(pdbid)\n",
    "        else:\n",
    "            continue\n",
    "        fasta_str = get_fasta_str(pdbid, chains)\n",
    "        if fasta_str is not None:\n",
    "            fw.write(fasta_str)\n",
    "    # fw.write('\\n')\n",
    "    fw.close()\n",
    "else:\n",
    "    pass"
   ]
  },
  {
   "cell_type": "code",
   "execution_count": 24,
   "metadata": {},
   "outputs": [],
   "source": [
    "if da==4:\n",
    "    holo_table = pd.read_csv('PocketDetectionData_HOLO4k_da6/holo4k_table_pocket_full.tsv', sep='\\t')\n",
    "    print(holo_table.shape)\n",
    "    fw = open('holo4k_seq.fasta', 'w')\n",
    "\n",
    "    done = set()\n",
    "    for i in holo_table.index:\n",
    "        print('{}/{}\\r'.format(i, len(holo_table)), end=\"\")\n",
    "        pdbid, chains = holo_table.loc[i, ['pdbid', 'chains']]\n",
    "        if pdbid not in done:\n",
    "            done.add(pdbid)\n",
    "        else:\n",
    "            continue\n",
    "        fasta_str = get_fasta_str(pdbid, chains)\n",
    "        if fasta_str is not None:\n",
    "            fw.write(fasta_str)\n",
    "    # fw.write('\\n')\n",
    "    fw.close()\n",
    "else:\n",
    "    pass"
   ]
  },
  {
   "cell_type": "code",
   "execution_count": 25,
   "metadata": {},
   "outputs": [],
   "source": [
    "if da==4:\n",
    "    fw = open('scpdb_seq.fasta', 'w')\n",
    "\n",
    "    done = set()\n",
    "    for i in table_single.index:\n",
    "        print('{}/{}\\r'.format(i, len(table_single)), end=\"\")\n",
    "        pdbid, chains = table_single.loc[i, ['pdbid', 'chains']]\n",
    "        if pdbid not in done:\n",
    "            done.add(pdbid)\n",
    "        else:\n",
    "            continue\n",
    "        fasta_str = get_fasta_str(pdbid, chains)\n",
    "        if fasta_str is not None:\n",
    "            fw.write(fasta_str)\n",
    "    # fw.write('\\n')\n",
    "    fw.close()\n",
    "else:\n",
    "    pass"
   ]
  },
  {
   "cell_type": "code",
   "execution_count": 26,
   "metadata": {},
   "outputs": [
    {
     "name": "stdout",
     "output_type": "stream",
     "text": [
      "mv: 无法获取'*.fasta' 的文件状态(stat): 没有那个文件或目录\r\n"
     ]
    }
   ],
   "source": [
    "! mv *.fasta ./smith-waterman-src/"
   ]
  },
  {
   "cell_type": "markdown",
   "metadata": {},
   "source": [
    "\\# Then run in cmdline:\n",
    "\n",
    "cd ./smith-waterman-src/\n",
    "\n",
    "chmod +x ssw_test\n",
    "\n",
    "./ssw_test -p coach420_seq.fasta scpdb_seq.fasta > coach_scpdb.out & \n",
    "\n",
    "./ssw_test -p holo4k_seq.fasta scpdb_seq.fasta > holo_scpdb.out &\n",
    "\n",
    "python pyssw_paired.py -p coach420_seq.fasta coach420_seq.fasta > coach.out\n",
    "\n",
    "python pyssw_paired.py -p holo4k_seq.fasta holo4k_seq.fasta > holo.out\n",
    "\n",
    "python pyssw_paired.py -p scpdb_seq.fasta scpdb_seq.fasta > scpdb.out\n",
    "\n",
    "\\# When finishing the above 5 jobs:"
   ]
  },
  {
   "cell_type": "code",
   "execution_count": 27,
   "metadata": {},
   "outputs": [],
   "source": [
    "def check_symmetric(a, tol=1e-8):\n",
    "    return np.allclose(a, a.T, atol=tol)\n",
    "\n",
    "def get_protein_vocabulary_dict(fasta_name):\n",
    "    protein_vocabulary_dict = {}\n",
    "    f = open(fasta_name)\n",
    "    for line in f.readlines():\n",
    "        if line[0] == '>':\n",
    "            protein_vocabulary_dict[line[1:-1]] = len(protein_vocabulary_dict)\n",
    "    f.close()\n",
    "    print('protein_vocabulary_dict', len(protein_vocabulary_dict))\n",
    "    return protein_vocabulary_dict\n",
    "\n",
    "def sim_aquire(target_name, query_name, output_name):\n",
    "    '''without normalization'''\n",
    "    target_dict = get_protein_vocabulary_dict(target_name)\n",
    "    query_dict = get_protein_vocabulary_dict(query_name)\n",
    "    p_simi = np.zeros((len(target_dict), len(query_dict)))\n",
    "    \n",
    "    # parse results\n",
    "    f = open(output_name)\n",
    "    content = f.read()\n",
    "    content = content.replace(\"When maskLen < 15, the function ssw_align doesn't return 2nd best alignment information.\\n\", \"\")\n",
    "    content = content.replace(\"269\\n\\n\\n\", \"\")\n",
    "    lines = content.split('\\n')[:-1] ## ???? 不懂但有用\n",
    "#     lines = f.readlines()\n",
    "#     lines = [line for line in lines if not line.startswith('When ')]\n",
    "    f.close()\n",
    "    print('total lines', len(lines), len(lines)/4/p_simi.size)\n",
    "    for i in range(0,len(lines),4):\n",
    "        try:\n",
    "            a = lines[i].strip('\\n').split(' ')[-1]\n",
    "            b = lines[i+1].strip('\\n').split(' ')[-1]\n",
    "            c = float(int(lines[i+2].strip('\\n').split( )[1]))\n",
    "            p_simi[target_dict[a], query_dict[b]] = c\n",
    "        except Exception as E:\n",
    "            print(lines[i-4:i+4])\n",
    "            print('wrong', i, a, b, c)\n",
    "            print(E)\n",
    "            return\n",
    "            \n",
    "#     assert check_symmetric(p_simi)\n",
    "    \n",
    "    # normalize\n",
    "#     for i in range(p_simi.shape[0]):\n",
    "#         for j in range(p_simi.shape[0]):\n",
    "#             if i == j:\n",
    "#                 continue\n",
    "#             p_simi[i,j] = p_simi[i,j] / (float(np.sqrt(p_simi[i,i])*np.sqrt(p_simi[j,j]))+1e-12)\n",
    "#     for i in range(len(p_simi)):\n",
    "#         p_simi[i,i] = p_simi[i,i] / float(np.sqrt(p_simi[i,i])*np.sqrt(p_simi[i,i]))\n",
    "#     print('p_simi', p_simi.shape)\n",
    "#     assert check_symmetric(p_simi)\n",
    "    \n",
    "    target_list = ['']*len(target_dict)\n",
    "    for pid, idx in target_dict.items():\n",
    "        target_list[idx] = pid\n",
    "    print('target_list', len(target_list))\n",
    "    \n",
    "    query_list = ['']*len(query_dict)\n",
    "    for pid, idx in query_dict.items():\n",
    "        query_list[idx] = pid\n",
    "    print('query_list', len(query_list))\n",
    "    # assert target_list == query_list\n",
    "    return p_simi, target_list, query_list\n"
   ]
  },
  {
   "cell_type": "code",
   "execution_count": 28,
   "metadata": {},
   "outputs": [
    {
     "name": "stdout",
     "output_type": "stream",
     "text": [
      "protein_vocabulary_dict 419\n",
      "protein_vocabulary_dict 4464\n",
      "total lines 7481664 1.0\n",
      "target_list 419\n",
      "query_list 4464\n",
      "protein_vocabulary_dict 2011\n",
      "protein_vocabulary_dict 4464\n",
      "total lines 35908416 1.0\n",
      "target_list 2011\n",
      "query_list 4464\n"
     ]
    },
    {
     "data": {
      "text/plain": [
       "((419, 4464), 0)"
      ]
     },
     "execution_count": 28,
     "metadata": {},
     "output_type": "execute_result"
    }
   ],
   "source": [
    "coach_scpdb_sim_mat, coach_list, scpdb_list = sim_aquire('./smith-waterman-src/coach420_seq.fasta', \n",
    "                                              './smith-waterman-src/scpdb_seq.fasta',\n",
    "                                              './smith-waterman-src/coach_scpdb.out')\n",
    "holo_scpdb_sim_mat, holo_list, scpdb_list = sim_aquire('./smith-waterman-src/holo4k_seq.fasta', \n",
    "                                              './smith-waterman-src/scpdb_seq.fasta',\n",
    "                                              './smith-waterman-src/holo_scpdb.out')\n",
    "coach_scpdb_sim_mat.shape, (coach_scpdb_sim_mat == 0).sum()"
   ]
  },
  {
   "cell_type": "code",
   "execution_count": 29,
   "metadata": {},
   "outputs": [],
   "source": [
    "def reg_aquire(target_list, output_name):\n",
    "    p_simi = {} # np.zeros(len(target_dict))\n",
    "    \n",
    "    # parse results\n",
    "    f = open(output_name)\n",
    "    lines = f.readlines()\n",
    "    f.close()\n",
    "    print('total lines', len(lines))\n",
    "    for i in range(0,len(lines),4):\n",
    "        try:\n",
    "            a = lines[i].strip('\\n').split(' ')[-1]\n",
    "            b = lines[i+1].strip('\\n').split(' ')[-1]\n",
    "            assert a==b\n",
    "            c = float(int(lines[i+2].strip('\\n').split( )[1]))\n",
    "            p_simi[a] = c\n",
    "        except:\n",
    "            print(lines[i:i+4])\n",
    "            print('wrong', i, a, b, c)\n",
    "            \n",
    "    res = []    \n",
    "    for target in target_list:\n",
    "        if target in p_simi:\n",
    "            res.append(p_simi[target])\n",
    "        else:\n",
    "            res.append(0)\n",
    "    \n",
    "    return np.array(res)"
   ]
  },
  {
   "cell_type": "code",
   "execution_count": 30,
   "metadata": {},
   "outputs": [
    {
     "name": "stdout",
     "output_type": "stream",
     "text": [
      "total lines 1676\n",
      "total lines 8044\n",
      "total lines 17856\n",
      "(419,) (2011,) (4464,)\n"
     ]
    }
   ],
   "source": [
    "coach_reg = reg_aquire(coach_list, './smith-waterman-src/coach.out')\n",
    "holo_reg = reg_aquire(holo_list, './smith-waterman-src/holo.out')\n",
    "scpdb_reg = reg_aquire(scpdb_list, './smith-waterman-src/scpdb.out')\n",
    "print(coach_reg.shape, holo_reg.shape, scpdb_reg.shape)"
   ]
  },
  {
   "cell_type": "code",
   "execution_count": 31,
   "metadata": {},
   "outputs": [
    {
     "name": "stdout",
     "output_type": "stream",
     "text": [
      "coach_scpdb_sim_norm (419, 4464)\n"
     ]
    }
   ],
   "source": [
    "coach_scpdb_sim_norm = np.zeros(coach_scpdb_sim_mat.shape)\n",
    "for i in range(coach_scpdb_sim_mat.shape[0]):\n",
    "    for j in range(coach_scpdb_sim_mat.shape[1]):\n",
    "        coach_scpdb_sim_norm[i,j] = coach_scpdb_sim_mat[i,j] / (float(np.sqrt(coach_reg[i])*np.sqrt(scpdb_reg[j]))+1e-12)\n",
    "print('coach_scpdb_sim_norm', coach_scpdb_sim_norm.shape)"
   ]
  },
  {
   "cell_type": "code",
   "execution_count": 32,
   "metadata": {},
   "outputs": [
    {
     "name": "stdout",
     "output_type": "stream",
     "text": [
      "holo_scpdb_sim_norm (2011, 4464)\n"
     ]
    }
   ],
   "source": [
    "holo_scpdb_sim_norm = np.zeros(holo_scpdb_sim_mat.shape)\n",
    "for i in range(holo_scpdb_sim_mat.shape[0]):\n",
    "    for j in range(holo_scpdb_sim_mat.shape[1]):\n",
    "        holo_scpdb_sim_norm[i,j] = holo_scpdb_sim_mat[i,j] / (float(np.sqrt(holo_reg[i])*np.sqrt(scpdb_reg[j]))+1e-12)\n",
    "print('holo_scpdb_sim_norm', holo_scpdb_sim_norm.shape)"
   ]
  },
  {
   "cell_type": "code",
   "execution_count": 33,
   "metadata": {},
   "outputs": [
    {
     "data": {
      "text/plain": [
       "(9209, 9209)"
      ]
     },
     "execution_count": 33,
     "metadata": {},
     "output_type": "execute_result"
    }
   ],
   "source": [
    "table_pdbid_list = table_single['pdbid'].values\n",
    "table_pdbid_dict = {pdbid:i for i,pdbid in enumerate(table_pdbid_list)}\n",
    "len(table_pdbid_list), len(table_pdbid_dict)"
   ]
  },
  {
   "cell_type": "code",
   "execution_count": 34,
   "metadata": {},
   "outputs": [
    {
     "data": {
      "text/plain": [
       "0.14330859983664965"
      ]
     },
     "execution_count": 34,
     "metadata": {},
     "output_type": "execute_result"
    }
   ],
   "source": [
    "maxsim_coach = np.zeros(len(table_pdbid_dict))\n",
    "for coli, item in enumerate(scpdb_list):\n",
    "    pdbid = item[:4]\n",
    "    if pdbid not in table_pdbid_dict:\n",
    "        continue\n",
    "    idx = table_pdbid_dict[pdbid]\n",
    "    maxsim = max(maxsim_coach[idx], coach_scpdb_sim_norm[:,coli].max())\n",
    "    maxsim_coach[idx] = maxsim\n",
    "np.mean(maxsim_coach)"
   ]
  },
  {
   "cell_type": "code",
   "execution_count": 35,
   "metadata": {},
   "outputs": [
    {
     "data": {
      "text/plain": [
       "0.1722204401618667"
      ]
     },
     "execution_count": 35,
     "metadata": {},
     "output_type": "execute_result"
    }
   ],
   "source": [
    "maxsim_holo = np.zeros(len(table_pdbid_dict))\n",
    "for coli, item in enumerate(scpdb_list):\n",
    "    pdbid = item[:4]\n",
    "    if pdbid not in table_pdbid_dict:\n",
    "        continue\n",
    "    idx = table_pdbid_dict[pdbid]\n",
    "    maxsim = max(maxsim_holo[idx], holo_scpdb_sim_norm[:,coli].max())\n",
    "    maxsim_holo[idx] = maxsim\n",
    "np.mean(maxsim_holo)"
   ]
  },
  {
   "cell_type": "code",
   "execution_count": 36,
   "metadata": {},
   "outputs": [
    {
     "data": {
      "text/plain": [
       "(9209,)"
      ]
     },
     "execution_count": 36,
     "metadata": {},
     "output_type": "execute_result"
    }
   ],
   "source": [
    "maxsim_both = np.vstack([maxsim_holo, maxsim_coach]).max(0)\n",
    "maxsim_both.shape"
   ]
  },
  {
   "cell_type": "code",
   "execution_count": 37,
   "metadata": {},
   "outputs": [
    {
     "data": {
      "text/plain": [
       "<Figure size 960x720 with 1 Axes>"
      ]
     },
     "metadata": {},
     "output_type": "display_data"
    }
   ],
   "source": [
    "import matplotlib.pyplot as plt\n",
    "plt.figure(dpi=150)\n",
    "plt.hist(maxsim_both)\n",
    "plt.show()"
   ]
  },
  {
   "cell_type": "code",
   "execution_count": 38,
   "metadata": {},
   "outputs": [],
   "source": [
    "table_single['maxsim'] = maxsim_both"
   ]
  },
  {
   "cell_type": "code",
   "execution_count": 39,
   "metadata": {},
   "outputs": [],
   "source": [
    "table_single['sim0.9'] = (maxsim_both <= 0.9).astype(bool)\n",
    "table_single['sim0.8'] = (maxsim_both <= 0.8).astype(bool)\n",
    "table_single['sim0.7'] = (maxsim_both <= 0.7).astype(bool)\n",
    "table_single['sim0.6'] = (maxsim_both <= 0.6).astype(bool)\n",
    "table_single['sim0.5'] = (maxsim_both <= 0.5).astype(bool)\n",
    "table_single['sim0.4'] = (maxsim_both <= 0.4).astype(bool)\n",
    "table_single['sim0.3'] = (maxsim_both <= 0.3).astype(bool)\n",
    "table_single['sim0.2'] = (maxsim_both <= 0.2).astype(bool)"
   ]
  },
  {
   "cell_type": "code",
   "execution_count": 40,
   "metadata": {},
   "outputs": [],
   "source": [
    "table_single.to_csv(outdir+'scPDB_table_pocket_single_similarity.tsv', sep='\\t', index=None)"
   ]
  },
  {
   "cell_type": "code",
   "execution_count": 41,
   "metadata": {},
   "outputs": [
    {
     "data": {
      "text/html": [
       "<div>\n",
       "<style scoped>\n",
       "    .dataframe tbody tr th:only-of-type {\n",
       "        vertical-align: middle;\n",
       "    }\n",
       "\n",
       "    .dataframe tbody tr th {\n",
       "        vertical-align: top;\n",
       "    }\n",
       "\n",
       "    .dataframe thead th {\n",
       "        text-align: right;\n",
       "    }\n",
       "</style>\n",
       "<table border=\"1\" class=\"dataframe\">\n",
       "  <thead>\n",
       "    <tr style=\"text-align: right;\">\n",
       "      <th></th>\n",
       "      <th>pdbid</th>\n",
       "      <th>ligand</th>\n",
       "      <th>num_ligand</th>\n",
       "      <th>chains</th>\n",
       "      <th>maxsim</th>\n",
       "      <th>sim0.9</th>\n",
       "      <th>sim0.8</th>\n",
       "      <th>sim0.7</th>\n",
       "      <th>sim0.6</th>\n",
       "      <th>sim0.5</th>\n",
       "      <th>sim0.4</th>\n",
       "      <th>sim0.3</th>\n",
       "      <th>sim0.2</th>\n",
       "    </tr>\n",
       "  </thead>\n",
       "  <tbody>\n",
       "    <tr>\n",
       "      <td>0</td>\n",
       "      <td>11bg</td>\n",
       "      <td>U2G</td>\n",
       "      <td>4</td>\n",
       "      <td>AB</td>\n",
       "      <td>0.000000</td>\n",
       "      <td>True</td>\n",
       "      <td>True</td>\n",
       "      <td>True</td>\n",
       "      <td>True</td>\n",
       "      <td>True</td>\n",
       "      <td>True</td>\n",
       "      <td>True</td>\n",
       "      <td>True</td>\n",
       "    </tr>\n",
       "    <tr>\n",
       "      <td>1</td>\n",
       "      <td>1a2n</td>\n",
       "      <td>TET</td>\n",
       "      <td>1</td>\n",
       "      <td>A</td>\n",
       "      <td>0.253156</td>\n",
       "      <td>True</td>\n",
       "      <td>True</td>\n",
       "      <td>True</td>\n",
       "      <td>True</td>\n",
       "      <td>True</td>\n",
       "      <td>True</td>\n",
       "      <td>True</td>\n",
       "      <td>False</td>\n",
       "    </tr>\n",
       "    <tr>\n",
       "      <td>2</td>\n",
       "      <td>1a4r</td>\n",
       "      <td>GNH</td>\n",
       "      <td>1</td>\n",
       "      <td>AB</td>\n",
       "      <td>0.000000</td>\n",
       "      <td>True</td>\n",
       "      <td>True</td>\n",
       "      <td>True</td>\n",
       "      <td>True</td>\n",
       "      <td>True</td>\n",
       "      <td>True</td>\n",
       "      <td>True</td>\n",
       "      <td>True</td>\n",
       "    </tr>\n",
       "    <tr>\n",
       "      <td>3</td>\n",
       "      <td>1a4z</td>\n",
       "      <td>NAD</td>\n",
       "      <td>4</td>\n",
       "      <td>ABCD</td>\n",
       "      <td>0.000000</td>\n",
       "      <td>True</td>\n",
       "      <td>True</td>\n",
       "      <td>True</td>\n",
       "      <td>True</td>\n",
       "      <td>True</td>\n",
       "      <td>True</td>\n",
       "      <td>True</td>\n",
       "      <td>True</td>\n",
       "    </tr>\n",
       "    <tr>\n",
       "      <td>4</td>\n",
       "      <td>1a5u</td>\n",
       "      <td>ATP</td>\n",
       "      <td>3</td>\n",
       "      <td>EFGH</td>\n",
       "      <td>0.000000</td>\n",
       "      <td>True</td>\n",
       "      <td>True</td>\n",
       "      <td>True</td>\n",
       "      <td>True</td>\n",
       "      <td>True</td>\n",
       "      <td>True</td>\n",
       "      <td>True</td>\n",
       "      <td>True</td>\n",
       "    </tr>\n",
       "    <tr>\n",
       "      <td>...</td>\n",
       "      <td>...</td>\n",
       "      <td>...</td>\n",
       "      <td>...</td>\n",
       "      <td>...</td>\n",
       "      <td>...</td>\n",
       "      <td>...</td>\n",
       "      <td>...</td>\n",
       "      <td>...</td>\n",
       "      <td>...</td>\n",
       "      <td>...</td>\n",
       "      <td>...</td>\n",
       "      <td>...</td>\n",
       "      <td>...</td>\n",
       "    </tr>\n",
       "    <tr>\n",
       "      <td>9204</td>\n",
       "      <td>5xra</td>\n",
       "      <td>CLR,FMN</td>\n",
       "      <td>2</td>\n",
       "      <td>A</td>\n",
       "      <td>0.589163</td>\n",
       "      <td>True</td>\n",
       "      <td>True</td>\n",
       "      <td>True</td>\n",
       "      <td>True</td>\n",
       "      <td>False</td>\n",
       "      <td>False</td>\n",
       "      <td>False</td>\n",
       "      <td>False</td>\n",
       "    </tr>\n",
       "    <tr>\n",
       "      <td>9205</td>\n",
       "      <td>6cox</td>\n",
       "      <td>S58</td>\n",
       "      <td>2</td>\n",
       "      <td>AB</td>\n",
       "      <td>0.000000</td>\n",
       "      <td>True</td>\n",
       "      <td>True</td>\n",
       "      <td>True</td>\n",
       "      <td>True</td>\n",
       "      <td>True</td>\n",
       "      <td>True</td>\n",
       "      <td>True</td>\n",
       "      <td>True</td>\n",
       "    </tr>\n",
       "    <tr>\n",
       "      <td>9206</td>\n",
       "      <td>6req</td>\n",
       "      <td>3CP</td>\n",
       "      <td>1</td>\n",
       "      <td>CD</td>\n",
       "      <td>0.000000</td>\n",
       "      <td>True</td>\n",
       "      <td>True</td>\n",
       "      <td>True</td>\n",
       "      <td>True</td>\n",
       "      <td>True</td>\n",
       "      <td>True</td>\n",
       "      <td>True</td>\n",
       "      <td>True</td>\n",
       "    </tr>\n",
       "    <tr>\n",
       "      <td>9207</td>\n",
       "      <td>7prc</td>\n",
       "      <td>CET</td>\n",
       "      <td>1</td>\n",
       "      <td>CHLM</td>\n",
       "      <td>0.000000</td>\n",
       "      <td>True</td>\n",
       "      <td>True</td>\n",
       "      <td>True</td>\n",
       "      <td>True</td>\n",
       "      <td>True</td>\n",
       "      <td>True</td>\n",
       "      <td>True</td>\n",
       "      <td>True</td>\n",
       "    </tr>\n",
       "    <tr>\n",
       "      <td>9208</td>\n",
       "      <td>7req</td>\n",
       "      <td>2CP</td>\n",
       "      <td>1</td>\n",
       "      <td>CD</td>\n",
       "      <td>0.000000</td>\n",
       "      <td>True</td>\n",
       "      <td>True</td>\n",
       "      <td>True</td>\n",
       "      <td>True</td>\n",
       "      <td>True</td>\n",
       "      <td>True</td>\n",
       "      <td>True</td>\n",
       "      <td>True</td>\n",
       "    </tr>\n",
       "  </tbody>\n",
       "</table>\n",
       "<p>9209 rows × 13 columns</p>\n",
       "</div>"
      ],
      "text/plain": [
       "     pdbid   ligand  num_ligand chains    maxsim  sim0.9  sim0.8  sim0.7  \\\n",
       "0     11bg      U2G           4     AB  0.000000    True    True    True   \n",
       "1     1a2n      TET           1      A  0.253156    True    True    True   \n",
       "2     1a4r      GNH           1     AB  0.000000    True    True    True   \n",
       "3     1a4z      NAD           4   ABCD  0.000000    True    True    True   \n",
       "4     1a5u      ATP           3   EFGH  0.000000    True    True    True   \n",
       "...    ...      ...         ...    ...       ...     ...     ...     ...   \n",
       "9204  5xra  CLR,FMN           2      A  0.589163    True    True    True   \n",
       "9205  6cox      S58           2     AB  0.000000    True    True    True   \n",
       "9206  6req      3CP           1     CD  0.000000    True    True    True   \n",
       "9207  7prc      CET           1   CHLM  0.000000    True    True    True   \n",
       "9208  7req      2CP           1     CD  0.000000    True    True    True   \n",
       "\n",
       "      sim0.6  sim0.5  sim0.4  sim0.3  sim0.2  \n",
       "0       True    True    True    True    True  \n",
       "1       True    True    True    True   False  \n",
       "2       True    True    True    True    True  \n",
       "3       True    True    True    True    True  \n",
       "4       True    True    True    True    True  \n",
       "...      ...     ...     ...     ...     ...  \n",
       "9204    True   False   False   False   False  \n",
       "9205    True    True    True    True    True  \n",
       "9206    True    True    True    True    True  \n",
       "9207    True    True    True    True    True  \n",
       "9208    True    True    True    True    True  \n",
       "\n",
       "[9209 rows x 13 columns]"
      ]
     },
     "execution_count": 41,
     "metadata": {},
     "output_type": "execute_result"
    }
   ],
   "source": [
    "table_single"
   ]
  },
  {
   "cell_type": "code",
   "execution_count": 42,
   "metadata": {},
   "outputs": [
    {
     "data": {
      "text/plain": [
       "[4902, 7015, 7739, 8297, 8525, 8705, 8828, 8976]"
      ]
     },
     "execution_count": 42,
     "metadata": {},
     "output_type": "execute_result"
    }
   ],
   "source": [
    "x = []\n",
    "tag_list = ['sim0.2', 'sim0.3', 'sim0.4', 'sim0.5', 'sim0.6', 'sim0.7', 'sim0.8', 'sim0.9']\n",
    "for sim in tag_list:\n",
    "    x.append(table_single[sim].sum())\n",
    "x"
   ]
  },
  {
   "cell_type": "code",
   "execution_count": 43,
   "metadata": {},
   "outputs": [
    {
     "data": {
      "text/plain": [
       "Text(0.5, 1.0, 'num training samples')"
      ]
     },
     "execution_count": 43,
     "metadata": {},
     "output_type": "execute_result"
    },
    {
     "data": {
      "image/png": "[encoded data removed]",
      "text/plain": [
       "<Figure size 1000x600 with 1 Axes>"
      ]
     },
     "metadata": {
      "needs_background": "light"
     },
     "output_type": "display_data"
    }
   ],
   "source": [
    "plt.figure(figsize=(5,3), dpi=200)\n",
    "plt.bar(range(len(tag_list)), x)\n",
    "plt.xticks(range(len(tag_list)), tag_list, rotation=90)\n",
    "plt.title('num training samples')"
   ]
  },
  {
   "cell_type": "code",
   "execution_count": null,
   "metadata": {},
   "outputs": [],
   "source": []
  },
  {
   "cell_type": "code",
   "execution_count": null,
   "metadata": {},
   "outputs": [],
   "source": []
  }
 ],
 "metadata": {
  "kernelspec": {
   "display_name": "Python 3",
   "language": "python",
   "name": "python3"
  },
  "language_info": {
   "codemirror_mode": {
    "name": "ipython",
    "version": 3
   },
   "file_extension": ".py",
   "mimetype": "text/x-python",
   "name": "python",
   "nbconvert_exporter": "python",
   "pygments_lexer": "ipython3",
   "version": "3.7.4"
  }
 },
 "nbformat": 4,
 "nbformat_minor": 2
}
