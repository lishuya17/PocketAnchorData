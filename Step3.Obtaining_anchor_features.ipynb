{
 "cells": [
  {
   "cell_type": "code",
   "execution_count": 109,
   "metadata": {},
   "outputs": [],
   "source": [
    "import os\n",
    "import numpy as np"
   ]
  },
  {
   "cell_type": "markdown",
   "metadata": {},
   "source": [
    "### 1. pocket detection -  scpdb"
   ]
  },
  {
   "cell_type": "code",
   "execution_count": 73,
   "metadata": {},
   "outputs": [
    {
     "name": "stdout",
     "output_type": "stream",
     "text": [
      "9442\n"
     ]
    }
   ],
   "source": [
    "with open('lists/pdbid_chain_list_scPDB.txt') as f:\n",
    "    list_task_scpdb = [line.strip() for line in f.readlines()]\n",
    "print(len(list_task_scpdb))"
   ]
  },
  {
   "cell_type": "code",
   "execution_count": 129,
   "metadata": {},
   "outputs": [],
   "source": [
    "da = 6\n",
    "fw = open('global_scpdb_{}.sh'.format(da), 'w')\n",
    "for item in list_task_scpdb:\n",
    "    fw.write('sh ./src/process_one_sample_global.sh {} {}\\n'.format(item, da))\n",
    "fw.close()"
   ]
  },
  {
   "cell_type": "markdown",
   "metadata": {},
   "source": [
    "Then, run \"nohup sh global_scpdb_6.sh &\" in cmdline"
   ]
  },
  {
   "cell_type": "code",
   "execution_count": 213,
   "metadata": {},
   "outputs": [
    {
     "name": "stdout",
     "output_type": "stream",
     "text": [
      "sh ./src/process_one_sample_global.sh 1h8h_ABCDEFG 4\n",
      "sh ./src/process_one_sample_global.sh 1zm4_EF 4\n",
      "sh ./src/process_one_sample_global.sh 3jxe_AB 4\n",
      "sh ./src/process_one_sample_global.sh 4itr_ABCD 4\n",
      "9239\n"
     ]
    }
   ],
   "source": [
    "# check progress\n",
    "da=4\n",
    "count_done = 0\n",
    "for item in list_task_scpdb:\n",
    "    if os.path.exists('./AnchorOutput/{}_da_{}/am_list.pt'.format(item, da)):\n",
    "        count_done += 1\n",
    "    elif os.path.exists('./MasifOutput/01-benchmark_pdbs/{}.pdb'.format(item)):\n",
    "        print('sh ./src/process_one_sample_global.sh {} {}'.format(item, da))\n",
    "print(count_done)"
   ]
  },
  {
   "cell_type": "code",
   "execution_count": 206,
   "metadata": {},
   "outputs": [
    {
     "name": "stdout",
     "output_type": "stream",
     "text": [
      "7512\n"
     ]
    }
   ],
   "source": [
    "# check progress\n",
    "da=6\n",
    "count_done = 0\n",
    "for item in list_task_scpdb:\n",
    "    if os.path.exists('./AnchorOutput/{}_da_{}/am_list.pt'.format(item, da)):\n",
    "        count_done += 1\n",
    "print(count_done)"
   ]
  },
  {
   "cell_type": "code",
   "execution_count": 214,
   "metadata": {},
   "outputs": [
    {
     "name": "stdout",
     "output_type": "stream",
     "text": [
      "sh ./src/process_one_sample_global.sh 1h8h_ABCDEFG 8\n",
      "sh ./src/process_one_sample_global.sh 1zm4_EF 8\n",
      "sh ./src/process_one_sample_global.sh 3jxe_AB 8\n",
      "sh ./src/process_one_sample_global.sh 4itr_ABCD 8\n",
      "9239\n"
     ]
    }
   ],
   "source": [
    "# check progress\n",
    "da=8\n",
    "count_done = 0\n",
    "for item in list_task_scpdb:\n",
    "    if os.path.exists('./AnchorOutput/{}_da_{}/am_list.pt'.format(item, da)):\n",
    "        count_done += 1\n",
    "    elif os.path.exists('./MasifOutput/01-benchmark_pdbs/{}.pdb'.format(item)):\n",
    "#         print('rm {}.pdb\\nwget -P ./ https://files.rcsb.org/download/{}.pdb'.format(item[:4], item[:4]))\n",
    "        print('sh ./src/process_one_sample_global.sh {} {}'.format(item, da))\n",
    "print(count_done)"
   ]
  },
  {
   "cell_type": "markdown",
   "metadata": {},
   "source": [
    "### 2. pocket detection - coach420"
   ]
  },
  {
   "cell_type": "code",
   "execution_count": 70,
   "metadata": {},
   "outputs": [
    {
     "name": "stdout",
     "output_type": "stream",
     "text": [
      "436\n"
     ]
    }
   ],
   "source": [
    "with open('lists/pdbid_chain_list_COACH420.txt') as f:\n",
    "    list_task_coach = [line.strip() for line in f.readlines()]\n",
    "print(len(list_task_coach))"
   ]
  },
  {
   "cell_type": "code",
   "execution_count": 105,
   "metadata": {},
   "outputs": [],
   "source": [
    "da = 6\n",
    "fw = open('global_coach_{}.sh'.format(da), 'w')\n",
    "for item in list_task_coach:\n",
    "    fw.write('sh ./src/process_one_sample_global.sh {} {}\\n'.format(item, da))\n",
    "fw.close()"
   ]
  },
  {
   "cell_type": "markdown",
   "metadata": {},
   "source": [
    "Then, run \"nohup sh global_coach_6.sh &\" in cmdline"
   ]
  },
  {
   "cell_type": "code",
   "execution_count": 215,
   "metadata": {},
   "outputs": [
    {
     "name": "stdout",
     "output_type": "stream",
     "text": [
      "436\n"
     ]
    }
   ],
   "source": [
    "# check progress\n",
    "da=6\n",
    "count_done = 0\n",
    "for item in list_task_coach:\n",
    "    if os.path.exists('./AnchorOutput/{}_da_{}/am_list.pt'.format(item, da)):\n",
    "        count_done += 1\n",
    "print(count_done)"
   ]
  },
  {
   "cell_type": "markdown",
   "metadata": {},
   "source": [
    "### 3. pocket detection - holo4k"
   ]
  },
  {
   "cell_type": "code",
   "execution_count": 64,
   "metadata": {},
   "outputs": [
    {
     "name": "stdout",
     "output_type": "stream",
     "text": [
      "4131\n"
     ]
    }
   ],
   "source": [
    "with open('lists/pdbid_chain_list_HOLO4k.txt') as f:\n",
    "    list_task_holo = [line.strip() for line in f.readlines()]\n",
    "print(len(list_task_holo))"
   ]
  },
  {
   "cell_type": "code",
   "execution_count": 128,
   "metadata": {},
   "outputs": [],
   "source": [
    "da = 6\n",
    "fw = open('global_holo_{}.sh'.format(da), 'w')\n",
    "for item in list_task_holo:\n",
    "    fw.write('sh ./src/process_one_sample_global.sh {} {}\\n'.format(item, da))\n",
    "fw.close()"
   ]
  },
  {
   "cell_type": "markdown",
   "metadata": {},
   "source": [
    "Then, run \"nohup sh global_holo_6.sh &\" in cmdline"
   ]
  },
  {
   "cell_type": "code",
   "execution_count": 247,
   "metadata": {},
   "outputs": [
    {
     "name": "stdout",
     "output_type": "stream",
     "text": [
      "4126\n"
     ]
    }
   ],
   "source": [
    "# check progress\n",
    "da=6\n",
    "count_done = 0\n",
    "for item in list_task_holo:\n",
    "    if os.path.exists('./AnchorOutput/{}_da_{}/am_list.pt'.format(item, da)):\n",
    "        count_done += 1\n",
    "print(count_done)"
   ]
  },
  {
   "cell_type": "markdown",
   "metadata": {},
   "source": [
    "### 4. affinity prediction - pdbbind"
   ]
  },
  {
   "cell_type": "code",
   "execution_count": 56,
   "metadata": {},
   "outputs": [
    {
     "name": "stdout",
     "output_type": "stream",
     "text": [
      "19443\n"
     ]
    }
   ],
   "source": [
    "with open('lists/pdbid_chain_center_list_PDBbind.txt') as f:\n",
    "    list_task_pdbbind = [line.strip() for line in f.readlines()]\n",
    "print(len(list_task_pdbbind))"
   ]
  },
  {
   "cell_type": "code",
   "execution_count": 130,
   "metadata": {},
   "outputs": [],
   "source": [
    "da = 4\n",
    "fw = open('local_pdbbind_{}.sh'.format(da), 'w')\n",
    "for item in list_task_pdbbind:\n",
    "    pdbid, center = item.split()\n",
    "    fw.write('sh ./src/process_one_sample_local.sh {} {} {}\\n'.format(pdbid, center, da))\n",
    "fw.close()"
   ]
  },
  {
   "cell_type": "markdown",
   "metadata": {},
   "source": [
    "Then, run \"nohup sh lcoal_pdbbind_6.sh &\" in cmdline"
   ]
  },
  {
   "cell_type": "code",
   "execution_count": 233,
   "metadata": {},
   "outputs": [
    {
     "name": "stdout",
     "output_type": "stream",
     "text": [
      "19338 0\n"
     ]
    }
   ],
   "source": [
    "# check progress\n",
    "da=2\n",
    "count_done = 0\n",
    "count_redo = 0\n",
    "for item in list_task_pdbbind:\n",
    "    pdbid, center = item.split()\n",
    "    if os.path.exists('./AnchorOutput/{}_center_{}_da_{}/am_list.npy'.format(pdbid, center, da)):\n",
    "        count_done += 1\n",
    "#     elif os.path.exists('./MasifOutput/01-benchmark_pdbs/{}.pdb'.format(pdbid)):\n",
    "#         print('rm {}.pdb\\nwget -P ./ https://files.rcsb.org/download/{}.pdb'.format(item[:4], item[:4]))\n",
    "#         print('sh ./src/process_one_sample_local.sh {} {} {}'.format(pdbid, center, da))\n",
    "#         count_redo += 1\n",
    "#     else:\n",
    "#         pass\n",
    "print(count_done, count_redo)"
   ]
  },
  {
   "cell_type": "code",
   "execution_count": 244,
   "metadata": {},
   "outputs": [
    {
     "name": "stdout",
     "output_type": "stream",
     "text": [
      "sh ./src/process_one_sample_local.sh 5vkf_ABCD 49.464_31.794_13.610 4\n",
      "sh ./src/process_one_sample_local.sh 4qzw_ABCDEFGHIJKLMNOPQRSTUVWXYZab 60.563_-135.280_38.862 4\n",
      "sh ./src/process_one_sample_local.sh 2hwg_AB 20.830_-8.155_19.134 4\n",
      "sh ./src/process_one_sample_local.sh 4fxj_ABCD 26.876_-16.419_32.912 4\n",
      "19334\n"
     ]
    }
   ],
   "source": [
    "# check progress\n",
    "da = 4\n",
    "count_done = 0\n",
    "for item in list_task_pdbbind:\n",
    "    pdbid, center = item.split()\n",
    "    if os.path.exists('./AnchorOutput/{}_center_{}_da_{}/am_list.npy'.format(pdbid, center, da)):\n",
    "        count_done += 1\n",
    "    elif os.path.exists('./AnchorOutput/{}_center_{}_da_2/am_list.npy'.format(pdbid, center)):\n",
    "        print('sh ./src/process_one_sample_local.sh {} {} {}'.format(pdbid, center, da))\n",
    "print(count_done)"
   ]
  },
  {
   "cell_type": "code",
   "execution_count": 243,
   "metadata": {},
   "outputs": [
    {
     "name": "stdout",
     "output_type": "stream",
     "text": [
      "sh ./src/process_one_sample_local.sh 5vkf_ABCD 49.464_31.794_13.610 6\n",
      "sh ./src/process_one_sample_local.sh 3fq7_AB 6.492_19.808_-32.940 6\n",
      "sh ./src/process_one_sample_local.sh 5kbh_AB 30.092_2.808_-13.729 6\n",
      "sh ./src/process_one_sample_local.sh 4qzw_ABCDEFGHIJKLMNOPQRSTUVWXYZab 60.563_-135.280_38.862 6\n",
      "sh ./src/process_one_sample_local.sh 5kbg_AB 29.935_2.595_-12.969 6\n",
      "sh ./src/process_one_sample_local.sh 2hwg_AB 20.830_-8.155_19.134 6\n",
      "sh ./src/process_one_sample_local.sh 4fxj_ABCD 26.876_-16.419_32.912 6\n",
      "19331\n"
     ]
    }
   ],
   "source": [
    "# check progress\n",
    "da = 6\n",
    "count_done = 0\n",
    "for item in list_task_pdbbind:\n",
    "    pdbid, center = item.split()\n",
    "    if os.path.exists('./AnchorOutput/{}_center_{}_da_{}/am_list.npy'.format(pdbid, center, da)):\n",
    "        count_done += 1\n",
    "    elif os.path.exists('./AnchorOutput/{}_center_{}_da_2/am_list.npy'.format(pdbid, center)):\n",
    "        print('sh ./src/process_one_sample_local.sh {} {} {}'.format(pdbid, center, da))\n",
    "print(count_done)"
   ]
  },
  {
   "cell_type": "code",
   "execution_count": 246,
   "metadata": {},
   "outputs": [
    {
     "name": "stdout",
     "output_type": "stream",
     "text": [
      "sh ./src/process_one_sample_local.sh 5vkf_ABCD 49.464_31.794_13.610 8\n",
      "sh ./src/process_one_sample_local.sh 4h85_A -9.092_-31.646_15.944 8\n",
      "sh ./src/process_one_sample_local.sh 3fq7_AB 6.492_19.808_-32.940 8\n",
      "sh ./src/process_one_sample_local.sh 4w53_A -33.570_6.307_3.819 8\n",
      "sh ./src/process_one_sample_local.sh 5kbi_AB 29.781_2.702_-13.730 8\n",
      "sh ./src/process_one_sample_local.sh 1lgw_A 27.135_6.345_4.177 8\n",
      "sh ./src/process_one_sample_local.sh 185l_A 27.151_6.173_4.260 8\n",
      "sh ./src/process_one_sample_local.sh 4qzw_ABCDEFGHIJKLMNOPQRSTUVWXYZab 60.563_-135.280_38.862 8\n",
      "sh ./src/process_one_sample_local.sh 1l6s_AB 20.623_88.954_52.128 8\n",
      "sh ./src/process_one_sample_local.sh 4h81_A -9.120_-32.022_16.349 8\n",
      "sh ./src/process_one_sample_local.sh 6cc9_ABC 29.382_-4.282_-11.348 8\n",
      "sh ./src/process_one_sample_local.sh 4ghi_AB 13.097_-41.753_10.193 8\n",
      "sh ./src/process_one_sample_local.sh 6csf_HLM 251.135_-14.234_-32.185 8\n",
      "sh ./src/process_one_sample_local.sh 1e02_A 0.503_27.411_12.958 8\n",
      "sh ./src/process_one_sample_local.sh 5kbg_AB 29.935_2.595_-12.969 8\n",
      "sh ./src/process_one_sample_local.sh 1dzj_A -0.016_26.705_12.921 8\n",
      "sh ./src/process_one_sample_local.sh 2hwg_AB 20.830_-8.155_19.134 8\n",
      "sh ./src/process_one_sample_local.sh 1dzk_A -0.522_26.511_12.434 8\n",
      "sh ./src/process_one_sample_local.sh 3tz4_A -9.091_-31.522_16.020 8\n",
      "sh ./src/process_one_sample_local.sh 1e06_A -0.781_26.496_12.495 8\n",
      "sh ./src/process_one_sample_local.sh 6cse_HLM 252.041_-14.287_-32.323 8\n",
      "sh ./src/process_one_sample_local.sh 4fxj_ABCD 26.876_-16.419_32.912 8\n",
      "sh ./src/process_one_sample_local.sh 4gs9_AB 13.313_-41.564_10.264 8\n",
      "sh ./src/process_one_sample_local.sh 5kbe_AB 29.944_2.708_-13.342 8\n",
      "19314\n"
     ]
    }
   ],
   "source": [
    "# check progress\n",
    "da = 8\n",
    "count_done = 0\n",
    "for item in list_task_pdbbind:\n",
    "    pdbid, center = item.split()\n",
    "    if os.path.exists('./AnchorOutput/{}_center_{}_da_{}/am_list.npy'.format(pdbid, center, da)):\n",
    "        count_done += 1\n",
    "    elif os.path.exists('./AnchorOutput/{}_center_{}_da_2/am_list.npy'.format(pdbid, center)):\n",
    "        print('sh ./src/process_one_sample_local.sh {} {} {}'.format(pdbid, center, da))\n",
    "print(count_done)"
   ]
  },
  {
   "cell_type": "code",
   "execution_count": null,
   "metadata": {},
   "outputs": [],
   "source": []
  }
 ],
 "metadata": {
  "kernelspec": {
   "display_name": "Python 3",
   "language": "python",
   "name": "python3"
  },
  "language_info": {
   "codemirror_mode": {
    "name": "ipython",
    "version": 3
   },
   "file_extension": ".py",
   "mimetype": "text/x-python",
   "name": "python",
   "nbconvert_exporter": "python",
   "pygments_lexer": "ipython3",
   "version": "3.7.4"
  }
 },
 "nbformat": 4,
 "nbformat_minor": 2
}
